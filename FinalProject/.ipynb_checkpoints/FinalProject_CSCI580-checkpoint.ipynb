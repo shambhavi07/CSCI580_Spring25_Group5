{
 "cells": [
  {
   "cell_type": "markdown",
   "id": "a2ecf610-5018-447b-a2ef-0bf1cfc7add6",
   "metadata": {},
   "source": [
    "# FINAL PROJECT: MNIST handwritten digit images to train a MLP  \n",
    "## Group 5: Shambhavi Danayak, Kimaya D Sawant, Pradnya R Ghadge, "
   ]
  },
  {
   "cell_type": "markdown",
   "id": "0dff24d8",
   "metadata": {},
   "source": [
    "#  1. Import Libraries\n",
    "\n",
    "We first import all necessary libraries including PyTorch, torchvision for datasets and transforms, and matplotlib/numpy for visualization."
   ]
  },
  {
   "cell_type": "code",
   "execution_count": 40,
   "id": "66f15db4",
   "metadata": {},
   "outputs": [],
   "source": [
    "import torch\n",
    "import torchvision\n",
    "import torchvision.transforms as transforms\n",
    "import torch.nn as nn\n",
    "import torch.optim as optim\n",
    "import matplotlib.pyplot as plt\n",
    "import numpy as np"
   ]
  },
  {
   "cell_type": "markdown",
   "id": "c4496130",
   "metadata": {},
   "source": [
    "# 2. Data Preparation\n",
    "\n",
    "## 2.1 Define Image Transformations\n",
    "\n",
    "We apply two transformations:\n",
    "- `ToTensor()` to convert PIL images to Tensors in the [0, 1] range.\n",
    "- `Normalize((0.5,), (0.5,))` to shift the range to [-1, 1] for better neural network performance.\n"
   ]
  },
  {
   "cell_type": "code",
   "execution_count": 41,
   "id": "b9d2fc01",
   "metadata": {},
   "outputs": [],
   "source": [
    "transform = transforms.Compose([\n",
    "    # converts image to Tensor (0-1 range)\n",
    "    transforms.ToTensor(),  \n",
    "    # normalize to [-1,1]\n",
    "    transforms.Normalize((0.5,), (0.5,))  \n",
    "])\n"
   ]
  },
  {
   "cell_type": "markdown",
   "id": "5b4edec9",
   "metadata": {},
   "source": [
    "## 2.2 Load MNIST Dataset\n",
    "\n",
    "We now download the MNIST handwritten digits dataset using `torchvision.datasets.MNIST`. \n",
    "- The training set contains 60,000 images.\n",
    "- The test set contains 10,000 images.\n",
    "- Both sets apply the defined transformations.\n",
    "- Batch size is set to 64 for training and testing.\n",
    "\n",
    "The dataset will be automatically downloaded into the `./data` directory."
   ]
  },
  {
   "cell_type": "code",
   "execution_count": 42,
   "id": "c95a1aa3",
   "metadata": {},
   "outputs": [],
   "source": [
    "trainset = torchvision.datasets.MNIST(root='./data', download=True, train=True, transform=transform)\n",
    "trainloader = torch.utils.data.DataLoader(trainset, batch_size=64, shuffle=True)\n",
    "\n",
    "testset = torchvision.datasets.MNIST(root='./data', download=True, train=False, transform=transform)\n",
    "testloader = torch.utils.data.DataLoader(testset, batch_size=64, shuffle=False)"
   ]
  },
  {
   "cell_type": "markdown",
   "id": "3dfe5c49",
   "metadata": {},
   "source": [
    "## 2.3 Define Class Labels\n",
    "\n",
    "We create a tuple `classes` containing string labels from 0 to 9, \n",
    "to map numeric labels to human-readable digits for visualization."
   ]
  },
  {
   "cell_type": "code",
   "execution_count": 43,
   "id": "3bdfa696",
   "metadata": {},
   "outputs": [
    {
     "data": {
      "image/png": "[encoded data removed]",
      "text/plain": [
       "<Figure size 640x480 with 1 Axes>"
      ]
     },
     "metadata": {},
     "output_type": "display_data"
    },
    {
     "name": "stdout",
     "output_type": "stream",
     "text": [
      "7 5 6 1 1 2\n"
     ]
    }
   ],
   "source": [
    "# Define classes (digit names)\n",
    "classes = tuple(str(i) for i in range(10))\n",
    "\n",
    "# Function to show our images\n",
    "def imshow(img):\n",
    "    img = img / 2 + 0.5  \n",
    "    npimg = img.numpy()\n",
    "    plt.imshow(np.transpose(npimg, (1, 2, 0)))\n",
    "    plt.axis('off')\n",
    "    plt.show()\n",
    "\n",
    "\n",
    "dataiter = iter(trainloader)\n",
    "images, labels = next(dataiter)\n",
    "\n",
    "imshow(torchvision.utils.make_grid(images[:6]))\n",
    "\n",
    "print(' '.join(f'{classes[labels[j]]}' for j in range(6)))\n"
   ]
  },
  {
   "cell_type": "code",
   "execution_count": 44,
   "id": "b3b39cca",
   "metadata": {},
   "outputs": [],
   "source": [
    "class MLP(nn.Module):\n",
    "    def __init__(self):\n",
    "        super(MLP, self).__init__()\n",
    "        # First hidden layer\n",
    "        self.fc1 = nn.Linear(28*28, 256)  \n",
    "        # Second hidden layer\n",
    "        self.fc2 = nn.Linear(256, 128)    \n",
    "        # Output layer \n",
    "        self.fc3 = nn.Linear(128, 10)     \n",
    "\n",
    "    def forward(self, x):\n",
    "        x = x.view(-1, 28*28)  \n",
    "        x = torch.relu(self.fc1(x))  \n",
    "        x = torch.relu(self.fc2(x))  \n",
    "        x = self.fc3(x)              \n",
    "        return x"
   ]
  }
 ],
 "metadata": {
  "kernelspec": {
   "display_name": "Python 3",
   "language": "python",
   "name": "python3"
  },
  "language_info": {
   "codemirror_mode": {
    "name": "ipython",
    "version": 3
   },
   "file_extension": ".py",
   "mimetype": "text/x-python",
   "name": "python",
   "nbconvert_exporter": "python",
   "pygments_lexer": "ipython3",
   "version": "3.12.6"
  }
 },
 "nbformat": 4,
 "nbformat_minor": 5
}
