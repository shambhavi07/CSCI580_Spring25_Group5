{
 "cells": [
  {
   "cell_type": "markdown",
   "id": "a2ecf610-5018-447b-a2ef-0bf1cfc7add6",
   "metadata": {},
   "source": [
    "# FINAL PROJECT: MNIST handwritten digit images to train a MLP  \n",
    "### Group 5: Shambhavi Danayak, Kimaya D Sawant, Pradnya R Ghadge, "
   ]
  },
  {
   "cell_type": "markdown",
   "id": "0dff24d8",
   "metadata": {},
   "source": [
    "#  1. Import Libraries\n",
    "\n",
    "We first import all necessary libraries including PyTorch, torchvision for datasets and transforms, and matplotlib/numpy for visualization."
   ]
  },
  {
   "cell_type": "code",
   "execution_count": 2,
   "id": "66f15db4",
   "metadata": {},
   "outputs": [],
   "source": [
    "import torch\n",
    "import torchvision\n",
    "import torchvision.transforms as transforms\n",
    "import torch.nn as nn\n",
    "import torch.optim as optim\n",
    "from torchvision import datasets, transforms\n",
    "from torch.utils.data import DataLoader\n",
    "from torch.utils.data import random_split\n",
    "import matplotlib.pyplot as plt\n",
    "import numpy as np\n",
    "import random"
   ]
  },
  {
   "cell_type": "markdown",
   "id": "b269c42c-bf78-4204-9faf-bd04647a19e5",
   "metadata": {},
   "source": [
    "## TASK 2: \n",
    "a helper function that can read all image files (following filename convention defined in Task1) into a Numpy array, and assign the corresponding labels in another Numpy array.  \n",
    "- load \".png\" handwritten data\n",
    "- extract label\n",
    "- verify shape\n",
    "- return images and labels"
   ]
  },
  {
   "cell_type": "code",
   "execution_count": 3,
   "id": "1348b70a-4ca8-4efd-818f-7e72d9877f9d",
   "metadata": {},
   "outputs": [],
   "source": [
    "import os\n",
    "from PIL import Image"
   ]
  },
  {
   "cell_type": "code",
   "execution_count": 4,
   "id": "0b73fd7e-a9de-413b-a3e6-3f4ab7df6535",
   "metadata": {},
   "outputs": [],
   "source": [
    "def ProjectDataLoader(folder_path=\"C:/Users/kdsawant/Documents/csci 580/CSCI580_Spring25_Group5/FinalProject/HandWrittenData/digits\"):\n",
    "    image_list = [] #stores image pixels\n",
    "    label_list = [] #corresponding digit labels\n",
    "\n",
    "    for filename in os.listdir(folder_path):\n",
    "        if filename.endswith(\".png\") and filename[0].isdigit():\n",
    "            try:\n",
    "                label = int(filename.split(\"-\")[0])\n",
    "\n",
    "                img_path = os.path.join(folder_path, filename)\n",
    "                image = Image.open(img_path).convert(\"L\")  # \"L\" = 8-bit pixels, black and white\n",
    "                # Resize \n",
    "                image_array = np.array(image)\n",
    "\n",
    "                if image_array.shape != (28, 28):\n",
    "                    raise ValueError(f\"Image {filename} is not 28x28 pixels\")\n",
    "\n",
    "                image_list.append(image_array)\n",
    "                label_list.append(label)\n",
    "\n",
    "            except Exception as e:\n",
    "                print(f\"Skipping {filename}: {e}\")\n",
    "\n",
    "    images = np.array(image_list, dtype=np.uint8)\n",
    "    labels = np.array(label_list, dtype=np.int64)\n",
    "\n",
    "    print(f\"Loaded {len(images)} images and labels.\")\n",
    "    return images, labels\n"
   ]
  },
  {
   "cell_type": "code",
   "execution_count": 5,
   "id": "d43377f0-5477-440b-8b51-95fa2961437a",
   "metadata": {},
   "outputs": [
    {
     "name": "stdout",
     "output_type": "stream",
     "text": [
      "Loaded 330 images and labels.\n",
      "Shape of image set: (330, 28, 28)\n",
      "Sample label: 0\n"
     ]
    }
   ],
   "source": [
    "images, labels = ProjectDataLoader()\n",
    "print(\"Shape of image set:\", images.shape)\n",
    "print(\"Sample label:\", labels[0])"
   ]
  },
  {
   "cell_type": "code",
   "execution_count": 6,
   "id": "b20e8154-ad28-42da-84b2-2b324c72ebe5",
   "metadata": {},
   "outputs": [
    {
     "data": {
      "image/png": "[encoded data removed]",
      "text/plain": [
       "<Figure size 1200x300 with 5 Axes>"
      ]
     },
     "metadata": {},
     "output_type": "display_data"
    }
   ],
   "source": [
    "if images.shape[0] == 0:\n",
    "    print(\"No images to display. Please check your image folder path and format.\")\n",
    "else:\n",
    "    num_images = min(5, len(images))\n",
    "\n",
    "    fig, axes = plt.subplots(1, num_images, figsize=(12, 3))  \n",
    "    for i in range(num_images):\n",
    "        axes[i].imshow(images[i], cmap='gray')\n",
    "        axes[i].set_title(f\"Label: {labels[i]}\")\n",
    "        axes[i].axis('off')\n",
    "\n",
    "    plt.tight_layout()\n",
    "    plt.show()\n"
   ]
  },
  {
   "cell_type": "code",
   "execution_count": null,
   "id": "16284c32-3122-454d-aa17-e538b2a22d8f",
   "metadata": {},
   "outputs": [],
   "source": []
  },
  {
   "cell_type": "markdown",
   "id": "a5d8b3bc-6c4f-4c08-a176-a58082bb793a",
   "metadata": {},
   "source": [
    "## Task 3: Preprocess image data using Pytorch"
   ]
  },
  {
   "cell_type": "code",
   "execution_count": 7,
   "id": "a04ebc54-7065-4fd1-adba-c6ebbe85ea53",
   "metadata": {},
   "outputs": [],
   "source": [
    "def preprocess_images(images_np):\n",
    "    preprocess = transforms.Compose([\n",
    "        transforms.ToTensor(),                         \n",
    "        transforms.Normalize((0.5,), (0.5,))           \n",
    "    ])\n",
    "\n",
    "    processed_images = []\n",
    "    for i in range(images_np.shape[0]):\n",
    "        img_tensor = preprocess(images_np[i])          \n",
    "        processed_images.append(img_tensor)\n",
    "    # Stack into a single tensor: shape → (N, 1, 28, 28)\n",
    "    return torch.stack(processed_images)\n",
    "\n",
    "images_tensor = preprocess_images(images)\n",
    "labels_tensor = torch.tensor(labels, dtype=torch.long)  # shape: (330,)\n",
    "\n",
    "from torch.utils.data import TensorDataset\n",
    "local_dataset = TensorDataset(images_tensor, labels_tensor)\n"
   ]
  },
  {
   "cell_type": "code",
   "execution_count": 8,
   "id": "0899abf4-734a-4cfe-b8ec-5485e2dde6e3",
   "metadata": {},
   "outputs": [
    {
     "name": "stdout",
     "output_type": "stream",
     "text": [
      "Processed image tensor shape: torch.Size([330, 1, 28, 28])\n",
      "Pixel range: -1.0 to 1.0\n"
     ]
    }
   ],
   "source": [
    "print(\"Processed image tensor shape:\", images_tensor.shape)\n",
    "print(\"Pixel range:\", images_tensor.min().item(), \"to\", images_tensor.max().item())"
   ]
  },
  {
   "cell_type": "code",
   "execution_count": 9,
   "id": "a165ecaf-0101-47ad-b829-53f84069d8cd",
   "metadata": {},
   "outputs": [],
   "source": [
    "os.makedirs(\"SavedData\", exist_ok=True)\n",
    "torch.save(images_tensor, \"SavedData/images_tensor.pt\")\n",
    "torch.save(labels_tensor, \"SavedData/labels_tensor.pt\")"
   ]
  },
  {
   "cell_type": "code",
   "execution_count": 10,
   "id": "e96a2beb-69ca-465c-8276-a3b482b0b1c0",
   "metadata": {},
   "outputs": [
    {
     "data": {
      "image/png": "[encoded data removed]",
      "text/plain": [
       "<Figure size 2000x200 with 10 Axes>"
      ]
     },
     "metadata": {},
     "output_type": "display_data"
    }
   ],
   "source": [
    "images_tensor = torch.load(\"SavedData/images_tensor.pt\")\n",
    "labels_tensor = torch.load(\"SavedData/labels_tensor.pt\")\n",
    "def show_random_images(images_tensor, labels_tensor, n=10):\n",
    "    indices = random.sample(range(len(images_tensor)), n)\n",
    "    plt.figure(figsize=(n * 2, 2))\n",
    "    for i, idx in enumerate(indices):\n",
    "        image = images_tensor[idx].squeeze().numpy()\n",
    "        label = labels_tensor[idx].item()\n",
    "\n",
    "        plt.subplot(1, n, i + 1)\n",
    "        plt.imshow(image, cmap=\"gray\")\n",
    "        plt.title(f\"Label: {label}\")\n",
    "        plt.axis(\"off\")\n",
    "    plt.tight_layout()\n",
    "    plt.show()\n",
    "\n",
    "# Usage:\n",
    "show_random_images(images_tensor, labels_tensor, n=10)"
   ]
  },
  {
   "cell_type": "code",
   "execution_count": null,
   "id": "d314ade7-4d18-47cd-aa6e-07f591b92029",
   "metadata": {},
   "outputs": [],
   "source": []
  },
  {
   "cell_type": "markdown",
   "id": "046772c2-e6ed-4eb1-a315-03d50217b256",
   "metadata": {},
   "source": [
    "### load MNIST dataset"
   ]
  },
  {
   "cell_type": "code",
   "execution_count": 11,
   "id": "8b79e27e-88b9-4a0b-b643-3dd86ce2dcd7",
   "metadata": {},
   "outputs": [],
   "source": [
    "# doing this again as MNIST DATASET is not in the form of NumPy array\n",
    "from torch.utils.data import Subset, ConcatDataset, DataLoader\n",
    "from torchvision import datasets\n",
    "\n",
    "\n",
    "\n",
    "transform = transforms.Compose([\n",
    "    transforms.ToTensor(),\n",
    "    transforms.Normalize((0.5,), (0.5,))\n",
    "])\n",
    "mnist_full = datasets.MNIST(root='./data', train=True, download=True, transform=transform)\n",
    "mnist_test = datasets.MNIST(root='./data', train=False, download=True, transform=transform)\n",
    "# Fix: sample the same number of MNIST images as local ones (330)\n",
    "mnist_indices = random.sample(range(len(mnist_full)), len(images_tensor))  # random 330\n",
    "mnist_train_subset = Subset(mnist_full, mnist_indices)\n",
    "mnist_val_subset = Subset(mnist_full, list(range(50000, 60000)))    # 50k–60k\n",
    "\n"
   ]
  },
  {
   "cell_type": "code",
   "execution_count": 12,
   "id": "2aff8013-c53c-4b5b-a633-a3a794ef7a75",
   "metadata": {},
   "outputs": [],
   "source": [
    "# Convert MNIST labels from int to tensor using wrapper\n",
    "class TensorWrapper(torch.utils.data.Dataset):\n",
    "    def __init__(self, dataset):\n",
    "        self.dataset = dataset\n",
    "\n",
    "    def __len__(self):\n",
    "        return len(self.dataset)\n",
    "\n",
    "    def __getitem__(self, idx):\n",
    "        x, y = self.dataset[idx]\n",
    "        return x, torch.tensor(y, dtype=torch.long)  # Convert int → tensor\n"
   ]
  },
  {
   "cell_type": "code",
   "execution_count": 13,
   "id": "816d743f-5fba-4bf0-a494-79ec58502e07",
   "metadata": {},
   "outputs": [],
   "source": [
    "mnist_train_subset = TensorWrapper(mnist_train_subset)\n"
   ]
  },
  {
   "cell_type": "markdown",
   "id": "1ec07035-959b-4e19-a97c-aa9b0e09802c",
   "metadata": {},
   "source": [
    "## Combine the Two Datasets"
   ]
  },
  {
   "cell_type": "code",
   "execution_count": 14,
   "id": "8e82d038-d578-48ee-a870-6feadeb18dcf",
   "metadata": {},
   "outputs": [],
   "source": [
    "\n",
    "combined_dataset = ConcatDataset([mnist_train_subset, local_dataset])\n"
   ]
  },
  {
   "cell_type": "markdown",
   "id": "e5dde484-5949-4011-a021-3ed167732233",
   "metadata": {},
   "source": [
    "### Create dataloader for the training"
   ]
  },
  {
   "cell_type": "code",
   "execution_count": 15,
   "id": "21c8df86-bf6e-4202-a34a-7b2d8172c7c4",
   "metadata": {},
   "outputs": [],
   "source": [
    "\n",
    "train_loader = DataLoader(combined_dataset, batch_size=64, shuffle=True)\n",
    "val_loader = DataLoader(mnist_val_subset, batch_size=64, shuffle=False)\n",
    "test_loader = DataLoader(mnist_test, batch_size=64, shuffle=False)\n"
   ]
  },
  {
   "cell_type": "markdown",
   "id": "f9b9ddb3-c109-4826-b26b-7bd74bdf7c88",
   "metadata": {},
   "source": [
    "### visualize  loaded data (Train= Learn, Val= Tune, Test= Prove)"
   ]
  },
  {
   "cell_type": "code",
   "execution_count": 17,
   "id": "279a591b-ff66-43eb-9e14-ae370745e83c",
   "metadata": {},
   "outputs": [
    {
     "data": {
      "image/png": "[encoded data removed]",
      "text/plain": [
       "<Figure size 1000x200 with 1 Axes>"
      ]
     },
     "metadata": {},
     "output_type": "display_data"
    },
    {
     "data": {
      "image/png": "[encoded data removed]",
      "text/plain": [
       "<Figure size 1000x200 with 1 Axes>"
      ]
     },
     "metadata": {},
     "output_type": "display_data"
    },
    {
     "data": {
      "image/png": "[encoded data removed]",
      "text/plain": [
       "<Figure size 1000x200 with 1 Axes>"
      ]
     },
     "metadata": {},
     "output_type": "display_data"
    }
   ],
   "source": [
    "def show_batch(loader, title=\"Sample Images from DataLoader\"):\n",
    "    images, labels = next(iter(loader))  \n",
    "    img_grid = torchvision.utils.make_grid(images[:8], nrow=8, padding=2, normalize=True)\n",
    "\n",
    "    plt.figure(figsize=(10, 2))\n",
    "    plt.imshow(img_grid.permute(1, 2, 0))  \n",
    "    plt.title(title)\n",
    "    plt.axis(\"off\")\n",
    "    plt.show()\n",
    "\n",
    "show_batch(train_loader, title=\"Train Set Samples\")\n",
    "show_batch(val_loader, title=\"Validation Set Samples\")\n",
    "show_batch(test_loader, title=\"Test Set Samples\")"
   ]
  },
  {
   "cell_type": "markdown",
   "id": "0da03e4c-78f6-470a-a5a8-c1f1e3d39ddc",
   "metadata": {},
   "source": [
    "### MLP Architecture (2 hidden, 1 input , 1 output layer), with ReLU, loss function CrossEntropyLoss, lr=0.001 and 10 rpochs"
   ]
  },
  {
   "cell_type": "code",
   "execution_count": 20,
   "id": "bc20f607-fe16-4984-b0d3-e37200a68c2c",
   "metadata": {},
   "outputs": [
    {
     "name": "stdout",
     "output_type": "stream",
     "text": [
      "Epoch [1/10] Train Loss: 2.2398 | Train Acc: 20.76% | Val Loss: 2.0105 | Val Acc: 37.62%\n",
      "Epoch [2/10] Train Loss: 1.9836 | Train Acc: 33.79% | Val Loss: 1.5432 | Val Acc: 58.43%\n",
      "Epoch [3/10] Train Loss: 1.7129 | Train Acc: 42.42% | Val Loss: 1.2289 | Val Acc: 56.59%\n",
      "Epoch [4/10] Train Loss: 1.5301 | Train Acc: 46.52% | Val Loss: 1.0554 | Val Acc: 66.37%\n",
      "Epoch [5/10] Train Loss: 1.4514 | Train Acc: 51.36% | Val Loss: 0.8554 | Val Acc: 75.11%\n",
      "Epoch [6/10] Train Loss: 1.2694 | Train Acc: 58.94% | Val Loss: 0.7893 | Val Acc: 76.96%\n",
      "Epoch [7/10] Train Loss: 1.1842 | Train Acc: 61.82% | Val Loss: 0.6938 | Val Acc: 77.05%\n",
      "Epoch [8/10] Train Loss: 1.1075 | Train Acc: 63.94% | Val Loss: 0.6185 | Val Acc: 81.85%\n",
      "Epoch [9/10] Train Loss: 1.0407 | Train Acc: 65.76% | Val Loss: 0.6451 | Val Acc: 79.78%\n",
      "Epoch [10/10] Train Loss: 1.0164 | Train Acc: 68.03% | Val Loss: 0.6227 | Val Acc: 80.65%\n",
      "Model saved successfully!\n"
     ]
    }
   ],
   "source": [
    "class MLP(nn.Module):\n",
    "    def __init__(self):\n",
    "        super(MLP, self).__init__()\n",
    "        self.model = nn.Sequential(\n",
    "            nn.Flatten(),                  \n",
    "            nn.Linear(784, 256), #hidden layer 1\n",
    "            nn.ReLU(),\n",
    "            nn.Linear(256, 128), #hidden layer 2\n",
    "            nn.ReLU(),\n",
    "            nn.Linear(128, 10) #output layer 10 neurons since we have classes           \n",
    "        )\n",
    "\n",
    "    def forward(self, x):\n",
    "        return self.model(x)\n",
    "\n",
    "model = MLP()\n",
    "\n",
    "criterion = nn.CrossEntropyLoss()\n",
    "optimizer = optim.Adam(model.parameters(), lr=0.001)\n",
    "\n",
    "device = torch.device(\"cuda\" if torch.cuda.is_available() else \"cpu\")\n",
    "model.to(device)\n",
    "\n",
    "num_epochs = 10\n",
    "for epoch in range(num_epochs):\n",
    "    model.train()\n",
    "    running_loss = 0\n",
    "    correct = 0\n",
    "    total = 0\n",
    "\n",
    "    for images, labels in train_loader:\n",
    "        images, labels = images.to(device), labels.to(device)\n",
    "\n",
    "        optimizer.zero_grad()\n",
    "        outputs = model(images)\n",
    "        loss = criterion(outputs, labels)\n",
    "        loss.backward()\n",
    "        optimizer.step()\n",
    "\n",
    "        running_loss += loss.item()\n",
    "        _, predicted = outputs.max(1)\n",
    "        total += labels.size(0)\n",
    "        correct += (predicted == labels).sum().item()\n",
    "\n",
    "    train_acc = 100 * correct / total\n",
    "\n",
    "    # Validation loop\n",
    "    model.eval()\n",
    "    val_loss = 0\n",
    "    val_correct = 0\n",
    "    val_total = 0\n",
    "\n",
    "    with torch.no_grad():\n",
    "        for images, labels in val_loader:\n",
    "            images, labels = images.to(device), labels.to(device)\n",
    "            outputs = model(images)\n",
    "            loss = criterion(outputs, labels)\n",
    "\n",
    "            val_loss += loss.item()\n",
    "            _, predicted = outputs.max(1)\n",
    "            val_total += labels.size(0)\n",
    "            val_correct += (predicted == labels).sum().item()\n",
    "\n",
    "    val_acc = 100 * val_correct / val_total\n",
    "\n",
    "    print(f\"Epoch [{epoch+1}/{num_epochs}] \"\n",
    "          f\"Train Loss: {running_loss/len(train_loader):.4f} | Train Acc: {train_acc:.2f}% \"\n",
    "          f\"| Val Loss: {val_loss/len(val_loader):.4f} | Val Acc: {val_acc:.2f}%\")\n",
    "\n",
    "#save model\n",
    "os.makedirs(\"SavedModels\", exist_ok=True)\n",
    "torch.save(model.state_dict(), \"SavedModels/mlp_mnist_state_dict.pth\")\n",
    "torch.save(model, \"SavedModels/mlp_mnist_full_model.pth\")\n",
    "print(\"Model saved successfully!\")"
   ]
  },
  {
   "cell_type": "code",
   "execution_count": 72,
   "id": "aa31122a-827c-4bf6-9e92-175e5723bb39",
   "metadata": {},
   "outputs": [
    {
     "name": "stdout",
     "output_type": "stream",
     "text": [
      "Final Test Accuracy on MNIST: 45.54%\n"
     ]
    }
   ],
   "source": [
    "## test accuracy (prove) on MNIST DATA\n",
    "model.eval()\n",
    "correct = 0\n",
    "total = 0\n",
    "with torch.no_grad():\n",
    "    for images, labels in test_loader:\n",
    "        images, labels = images.to(device), labels.to(device)\n",
    "        outputs = model(images)\n",
    "        _, predicted = outputs.max(1)\n",
    "        total += labels.size(0)\n",
    "        correct += (predicted == labels).sum().item()\n",
    "\n",
    "print(f\"Final Test Accuracy on MNIST: {100 * correct / total:.2f}%\")"
   ]
  },
  {
   "cell_type": "markdown",
   "id": "4a837699-6b01-43cf-8b0e-50ab9a0bfee3",
   "metadata": {},
   "source": [
    "# Test Trained MLP on Handwritten Dataset "
   ]
  },
  {
   "cell_type": "code",
   "execution_count": 75,
   "id": "be969a5f-db96-4a20-b3de-d9557db64710",
   "metadata": {},
   "outputs": [],
   "source": [
    "# Load your handwritten test data\n",
    "images_tensor = torch.load(\"SavedData/images_tensor.pt\")\n",
    "labels_tensor = torch.load(\"SavedData/labels_tensor.pt\")\n",
    "\n",
    "# Make sure to move tensors to same device as model\n",
    "images_tensor = images_tensor.to(device)\n",
    "labels_tensor = labels_tensor.to(device)\n"
   ]
  },
  {
   "cell_type": "code",
   "execution_count": 76,
   "id": "68d27951-4995-4233-a5c0-2aeb9df8e4d5",
   "metadata": {},
   "outputs": [
    {
     "name": "stdout",
     "output_type": "stream",
     "text": [
      "Accuracy on Handwritten Digits: 54.24%\n"
     ]
    }
   ],
   "source": [
    "model.eval()\n",
    "correct = 0\n",
    "total = labels_tensor.size(0)\n",
    "\n",
    "with torch.no_grad():\n",
    "    outputs = model(images_tensor)\n",
    "    _, predicted = torch.max(outputs, 1)\n",
    "    correct = (predicted == labels_tensor).sum().item()\n",
    "\n",
    "accuracy = 100 * correct / total\n",
    "print(f\"Accuracy on Handwritten Digits: {accuracy:.2f}%\")"
   ]
  },
  {
   "cell_type": "code",
   "execution_count": 77,
   "id": "5796c5a0-0820-425b-bec7-15e8eea6bddf",
   "metadata": {},
   "outputs": [
    {
     "data": {
      "image/png": "[encoded data removed]",
      "text/plain": [
       "<Figure size 2000x200 with 10 Axes>"
      ]
     },
     "metadata": {},
     "output_type": "display_data"
    }
   ],
   "source": [
    "## plot the resulting handwritten data on the saved mode;l\n",
    "import matplotlib.pyplot as plt\n",
    "\n",
    "def show_predictions(images, labels, preds, n=10):\n",
    "    plt.figure(figsize=(n*2, 2))\n",
    "    for i in range(n):\n",
    "        img = images[i].cpu().squeeze().numpy()\n",
    "        true = labels[i].item()\n",
    "        pred = preds[i].item()\n",
    "        plt.subplot(1, n, i+1)\n",
    "        plt.imshow(img, cmap=\"gray\")\n",
    "        plt.title(f\"T:{true} P:{pred}\")\n",
    "        plt.axis(\"off\")\n",
    "    plt.tight_layout()\n",
    "    plt.show()\n",
    "\n",
    "# Show predictions\n",
    "show_predictions(images_tensor, labels_tensor, predicted, n=10)"
   ]
  },
  {
   "cell_type": "code",
   "execution_count": 78,
   "id": "deb101df-3988-458f-94f5-11962f288410",
   "metadata": {},
   "outputs": [
    {
     "name": "stdout",
     "output_type": "stream",
     "text": [
      "Accuracy on MNIST test images: 45.54%\n"
     ]
    }
   ],
   "source": [
    "# Evaluation on MNIST test dataset\n",
    "model.eval()\n",
    "correct = 0\n",
    "total = 0\n",
    "with torch.no_grad():\n",
    "    for images, labels in test_loader:\n",
    "        images, labels = images.to(device), labels.to(device)\n",
    "        outputs = model(images)\n",
    "        _, predicted = torch.max(outputs, 1)\n",
    "        total += labels.size(0)\n",
    "        correct += (predicted == labels).sum().item()\n",
    "print(f'Accuracy on MNIST test images: {100 * correct / total:.2f}%')\n"
   ]
  },
  {
   "cell_type": "code",
   "execution_count": 26,
   "id": "e87b351c-65ae-466b-be93-b2271787df45",
   "metadata": {},
   "outputs": [
    {
     "name": "stdout",
     "output_type": "stream",
     "text": [
      "Predictions: [0 0 0 0 0 7 6 0 0 0 0 0 5 7 7 8 0 0 0 7 0 0 0 0 0 0 0 0 0 6 7 0 0 1 1 1 1\n",
      " 1 1 1 5 1 1 1 6 1 0 1 1 1 3 2 8 2 0 0 0 1 2 1 0 1 6 1 1 1 1 1 2 2 2 2 6 9\n",
      " 2 7 2 0 5 5 3 5 3 8 7 6 2 0 0 0 6 2 2 2 6 6 6 2 2 3 5 2 8 3 6 7 8 3 1 3 3\n",
      " 0 7 7 7 8 7 2 7 0 0 0 0 7 2 5 3 2 1 1 7 3 7 4 4 4 4 7 4 9 4 4 4 4 5 7 5 4\n",
      " 1 7 4 5 7 0 0 0 7 1 4 0 7 4 8 4 4 5 8 6 6 5 7 6 6 5 5 5 6 7 0 7 3 7 7 0 8\n",
      " 0 0 0 0 5 0 7 5 5 8 7 0 5 6 6 6 6 6 6 6 7 6 6 6 2 4 8 7 4 6 4 0 6 0 0 0 0\n",
      " 6 2 0 6 6 1 6 6 6 0 6 2 2 7 7 7 6 7 7 7 7 7 7 7 7 3 7 2 1 0 0 0 0 7 7 7 7\n",
      " 7 8 7 7 7 2 8 8 8 8 8 8 6 8 8 8 8 7 7 8 8 3 3 2 3 0 0 0 0 8 8 0 8 8 8 9 8\n",
      " 3 9 9 9 9 9 9 5 8 9 9 9 7 8 7 7 7 7 7 7 3 0 0 0 0 4 7 7 9 6 1 7 9 9]\n",
      "Ground Truth: [0 0 0 0 0 0 0 0 0 0 0 0 0 0 0 0 0 0 0 0 0 0 0 0 0 0 0 0 0 0 0 0 0 1 1 1 1\n",
      " 1 1 1 1 1 1 1 1 1 1 1 1 1 1 1 1 1 1 1 1 1 1 1 1 1 1 1 1 1 2 2 2 2 2 2 2 2\n",
      " 2 2 2 2 2 2 2 2 2 2 2 2 2 2 2 2 2 2 2 2 2 2 2 2 2 3 3 3 3 3 3 3 3 3 3 3 3\n",
      " 3 3 3 3 3 3 3 3 3 3 3 3 3 3 3 3 3 3 3 3 3 4 4 4 4 4 4 4 4 4 4 4 4 4 4 4 4\n",
      " 4 4 4 4 4 4 4 4 4 4 4 4 4 4 4 4 4 5 5 5 5 5 5 5 5 5 5 5 5 5 5 5 5 5 5 5 5\n",
      " 5 5 5 5 5 5 5 5 5 5 5 5 5 6 6 6 6 6 6 6 6 6 6 6 6 6 6 6 6 6 6 6 6 6 6 6 6\n",
      " 6 6 6 6 6 6 6 6 6 7 7 7 7 7 7 7 7 7 7 7 7 7 7 7 7 7 7 7 7 7 7 7 7 7 7 7 7\n",
      " 7 7 7 7 7 8 8 8 8 8 8 8 8 8 8 8 8 8 8 8 8 8 8 8 8 8 8 8 8 8 8 8 8 8 8 8 8\n",
      " 8 9 9 9 9 9 9 9 9 9 9 9 9 9 9 9 9 9 9 9 9 9 9 9 9 9 9 9 9 9 9 9 9 9]\n",
      "Accuracy on Group Digits: 46.97%\n"
     ]
    }
   ],
   "source": [
    "# Evaluation on group-collected digit images\n",
    "model.eval()\n",
    "images_tensor = images_tensor.to(device)\n",
    "labels_tensor = labels_tensor.to(device)\n",
    "with torch.no_grad():\n",
    "    outputs = model(images_tensor)\n",
    "    _, predicted = torch.max(outputs, 1)\n",
    "    correct = (predicted == labels_tensor).sum().item()\n",
    "    total = labels_tensor.size(0)\n",
    "    accuracy = 100 * correct / total\n",
    "print(\"Predictions:\", predicted.cpu().numpy())\n",
    "print(\"Ground Truth:\", labels_tensor.cpu().numpy())\n",
    "print(f\"Accuracy on Group Digits: {accuracy:.2f}%\")\n"
   ]
  },
  {
   "cell_type": "code",
   "execution_count": 79,
   "id": "d65fee59-7f6c-436a-a4ed-157a6f98d90a",
   "metadata": {},
   "outputs": [
    {
     "data": {
      "image/png": "[encoded data removed]",
      "text/plain": [
       "<Figure size 1500x300 with 10 Axes>"
      ]
     },
     "metadata": {},
     "output_type": "display_data"
    }
   ],
   "source": [
    "# Visualization of predictions\n",
    "images_cpu = images_tensor.cpu()\n",
    "predicted_cpu = predicted.cpu()\n",
    "labels_cpu = labels_tensor.cpu()\n",
    "N = min(10, len(images_cpu))\n",
    "plt.figure(figsize=(15, 3))\n",
    "for i in range(N):\n",
    "    plt.subplot(1, N, i + 1)\n",
    "    plt.imshow(images_cpu[i].squeeze(), cmap='gray')\n",
    "    plt.title(f\"P: {predicted_cpu[i].item()}\\nT: {labels_cpu[i].item()}\")\n",
    "    plt.axis('off')\n",
    "plt.tight_layout()\n",
    "plt.show()\n"
   ]
  },
  {
   "cell_type": "markdown",
   "id": "289c4a01-132d-453b-8c1f-7bd3a1241ddd",
   "metadata": {},
   "source": [
    "## Manual Hyperparameter Tuning"
   ]
  },
  {
   "cell_type": "code",
   "execution_count": 82,
   "id": "bc6814e4-61bf-4db6-8770-7b655768dfd0",
   "metadata": {},
   "outputs": [
    {
     "name": "stdout",
     "output_type": "stream",
     "text": [
      "Epoch [1/20] Loss: 2.3073 | LR: 0.000500\n",
      "Epoch [2/20] Loss: 2.2930 | LR: 0.000500\n",
      "Epoch [3/20] Loss: 2.3070 | LR: 0.000500\n",
      "Epoch [4/20] Loss: 2.3065 | LR: 0.000500\n",
      "Epoch [5/20] Loss: 2.2898 | LR: 0.000250\n",
      "Epoch [6/20] Loss: 2.2762 | LR: 0.000250\n",
      "Epoch [7/20] Loss: 2.2812 | LR: 0.000250\n",
      "Epoch [8/20] Loss: 2.2802 | LR: 0.000250\n",
      "Epoch [9/20] Loss: 2.2664 | LR: 0.000250\n",
      "Epoch [10/20] Loss: 2.2357 | LR: 0.000125\n",
      "Epoch [11/20] Loss: 2.2430 | LR: 0.000125\n",
      "Epoch [12/20] Loss: 2.2487 | LR: 0.000125\n",
      "Epoch [13/20] Loss: 2.1932 | LR: 0.000125\n",
      "Epoch [14/20] Loss: 2.2041 | LR: 0.000125\n",
      "Epoch [15/20] Loss: 2.1876 | LR: 0.000063\n",
      "Epoch [16/20] Loss: 2.1866 | LR: 0.000063\n",
      "Epoch [17/20] Loss: 2.2139 | LR: 0.000063\n",
      "Epoch [18/20] Loss: 2.1897 | LR: 0.000063\n",
      "Epoch [19/20] Loss: 2.2130 | LR: 0.000063\n",
      "Epoch [20/20] Loss: 2.1556 | LR: 0.000031\n"
     ]
    }
   ],
   "source": [
    "import torch.nn as nn\n",
    "import torch.optim as optim\n",
    "\n",
    "class MLP_Tuned(nn.Module):\n",
    "    def __init__(self):\n",
    "        super(MLP_Tuned, self).__init__()\n",
    "        self.fc1 = nn.Linear(28*28, 512)\n",
    "        self.dropout1 = nn.Dropout(0.2)\n",
    "        self.fc2 = nn.Linear(512, 256)\n",
    "        self.dropout2 = nn.Dropout(0.2)\n",
    "        self.fc3 = nn.Linear(256, 128)\n",
    "        self.fc4 = nn.Linear(128, 10)\n",
    "\n",
    "    def forward(self, x):\n",
    "        x = x.view(-1, 28*28)\n",
    "        x = self.dropout1(torch.relu(self.fc1(x)))\n",
    "        x = self.dropout2(torch.relu(self.fc2(x)))\n",
    "        x = torch.relu(self.fc3(x))\n",
    "        x = self.fc4(x)\n",
    "        return x\n",
    "\n",
    "# Instantiate model and move to device\n",
    "model = MLP_Tuned().to(device)\n",
    "\n",
    "# Define loss and optimizer\n",
    "criterion = nn.CrossEntropyLoss()\n",
    "optimizer = optim.Adam(model.parameters(), lr=0.0005)\n",
    "\n",
    "# Add learning rate scheduler\n",
    "scheduler = optim.lr_scheduler.StepLR(optimizer, step_size=5, gamma=0.5)\n",
    "\n",
    "# Training loop with scheduler\n",
    "epochs = 20\n",
    "for epoch in range(epochs):\n",
    "    running_loss = 0.0\n",
    "    model.train()\n",
    "    for images, labels in train_loader:\n",
    "        images, labels = images.to(device), labels.to(device)\n",
    "\n",
    "        optimizer.zero_grad()\n",
    "        outputs = model(images)\n",
    "        loss = criterion(outputs, labels)\n",
    "        loss.backward()\n",
    "        optimizer.step()\n",
    "        running_loss += loss.item()\n",
    "\n",
    "    scheduler.step()  # update LR\n",
    "    print(f\"Epoch [{epoch+1}/{epochs}] Loss: {running_loss/len(train_loader):.4f} | LR: {scheduler.get_last_lr()[0]:.6f}\")"
   ]
  },
  {
   "cell_type": "code",
   "execution_count": 83,
   "id": "09783fc8-b5af-4826-9165-e29b31e15a3e",
   "metadata": {},
   "outputs": [
    {
     "name": "stdout",
     "output_type": "stream",
     "text": [
      "Train Accuracy: 37.12% | Validation Accuracy: 19.70%\n"
     ]
    }
   ],
   "source": [
    "    # Evaluate on training data\n",
    "    model.eval()\n",
    "    correct_train = 0\n",
    "    total_train = 0\n",
    "    with torch.no_grad():\n",
    "        for images, labels in train_loader:\n",
    "            images, labels = images.to(device), labels.to(device)\n",
    "            outputs = model(images)\n",
    "            _, predicted = torch.max(outputs, 1)\n",
    "            total_train += labels.size(0)\n",
    "            correct_train += (predicted == labels).sum().item()\n",
    "\n",
    "    train_accuracy = 100 * correct_train / total_train\n",
    "\n",
    "    # Evaluate on validation data\n",
    "    correct_val = 0\n",
    "    total_val = 0\n",
    "    with torch.no_grad():\n",
    "        for images, labels in val_loader:\n",
    "            images, labels = images.to(device), labels.to(device)\n",
    "            outputs = model(images)\n",
    "            _, predicted = torch.max(outputs, 1)\n",
    "            total_val += labels.size(0)\n",
    "            correct_val += (predicted == labels).sum().item()\n",
    "\n",
    "    val_accuracy = 100 * correct_val / total_val\n",
    "\n",
    "    print(f\"Train Accuracy: {train_accuracy:.2f}% | Validation Accuracy: {val_accuracy:.2f}%\")\n"
   ]
  },
  {
   "cell_type": "code",
   "execution_count": 84,
   "id": "24b8cbb6-cce8-42e4-9283-1a0823357a10",
   "metadata": {},
   "outputs": [
    {
     "name": "stdout",
     "output_type": "stream",
     "text": [
      "Epoch [1/20] Loss: 2.1527 | LR: 0.000031\n",
      "Train Accuracy: 34.47% | Validation Accuracy: 18.18%\\n\n",
      "Epoch [2/20] Loss: 2.1892 | LR: 0.000031\n",
      "Train Accuracy: 32.95% | Validation Accuracy: 18.18%\\n\n",
      "Epoch [3/20] Loss: 2.1517 | LR: 0.000031\n",
      "Train Accuracy: 31.82% | Validation Accuracy: 16.67%\\n\n",
      "Epoch [4/20] Loss: 2.1445 | LR: 0.000031\n",
      "Train Accuracy: 33.33% | Validation Accuracy: 13.64%\\n\n",
      "Epoch [5/20] Loss: 2.1626 | LR: 0.000016\n",
      "Train Accuracy: 33.71% | Validation Accuracy: 13.64%\\n\n",
      "Epoch [6/20] Loss: 2.1683 | LR: 0.000016\n",
      "Train Accuracy: 34.47% | Validation Accuracy: 15.15%\\n\n",
      "Epoch [7/20] Loss: 2.1617 | LR: 0.000016\n",
      "Train Accuracy: 32.58% | Validation Accuracy: 15.15%\\n\n",
      "Epoch [8/20] Loss: 2.1629 | LR: 0.000016\n",
      "Train Accuracy: 31.82% | Validation Accuracy: 15.15%\\n\n",
      "Epoch [9/20] Loss: 2.1648 | LR: 0.000016\n",
      "Train Accuracy: 31.82% | Validation Accuracy: 16.67%\\n\n",
      "Epoch [10/20] Loss: 2.1654 | LR: 0.000008\n",
      "Train Accuracy: 31.82% | Validation Accuracy: 18.18%\\n\n",
      "Epoch [11/20] Loss: 2.1636 | LR: 0.000008\n",
      "Train Accuracy: 31.82% | Validation Accuracy: 18.18%\\n\n",
      "Epoch [12/20] Loss: 2.1775 | LR: 0.000008\n",
      "Train Accuracy: 32.58% | Validation Accuracy: 18.18%\\n\n",
      "Epoch [13/20] Loss: 2.1481 | LR: 0.000008\n",
      "Train Accuracy: 33.33% | Validation Accuracy: 18.18%\\n\n",
      "Epoch [14/20] Loss: 2.1834 | LR: 0.000008\n",
      "Train Accuracy: 32.58% | Validation Accuracy: 18.18%\\n\n",
      "Epoch [15/20] Loss: 2.1801 | LR: 0.000004\n",
      "Train Accuracy: 32.58% | Validation Accuracy: 18.18%\\n\n",
      "Epoch [16/20] Loss: 2.1689 | LR: 0.000004\n",
      "Train Accuracy: 32.20% | Validation Accuracy: 18.18%\\n\n",
      "Epoch [17/20] Loss: 2.1477 | LR: 0.000004\n",
      "Train Accuracy: 31.82% | Validation Accuracy: 18.18%\\n\n",
      "Epoch [18/20] Loss: 2.1444 | LR: 0.000004\n",
      "Train Accuracy: 31.82% | Validation Accuracy: 18.18%\\n\n",
      "Epoch [19/20] Loss: 2.1181 | LR: 0.000004\n",
      "Train Accuracy: 32.20% | Validation Accuracy: 18.18%\\n\n",
      "Epoch [20/20] Loss: 2.1312 | LR: 0.000002\n",
      "Train Accuracy: 32.20% | Validation Accuracy: 18.18%\\n\n"
     ]
    }
   ],
   "source": [
    "for epoch in range(epochs):\n",
    "    running_loss = 0.0\n",
    "    model.train()\n",
    "    for images, labels in train_loader:\n",
    "        images, labels = images.to(device), labels.to(device)\n",
    "\n",
    "        optimizer.zero_grad()\n",
    "        outputs = model(images)\n",
    "        loss = criterion(outputs, labels)\n",
    "        loss.backward()\n",
    "        optimizer.step()\n",
    "        running_loss += loss.item()\n",
    "\n",
    "    scheduler.step()\n",
    "\n",
    "    # Accuracy reporting\n",
    "    model.eval()\n",
    "    correct_train = 0\n",
    "    total_train = 0\n",
    "    with torch.no_grad():\n",
    "        for images, labels in train_loader:\n",
    "            images, labels = images.to(device), labels.to(device)\n",
    "            outputs = model(images)\n",
    "            _, predicted = torch.max(outputs, 1)\n",
    "            total_train += labels.size(0)\n",
    "            correct_train += (predicted == labels).sum().item()\n",
    "\n",
    "    train_accuracy = 100 * correct_train / total_train\n",
    "\n",
    "    correct_val = 0\n",
    "    total_val = 0\n",
    "    with torch.no_grad():\n",
    "        for images, labels in val_loader:\n",
    "            images, labels = images.to(device), labels.to(device)\n",
    "            outputs = model(images)\n",
    "            _, predicted = torch.max(outputs, 1)\n",
    "            total_val += labels.size(0)\n",
    "            correct_val += (predicted == labels).sum().item()\n",
    "\n",
    "    val_accuracy = 100 * correct_val / total_val\n",
    "\n",
    "    print(f\"Epoch [{epoch+1}/{epochs}] Loss: {running_loss/len(train_loader):.4f} | LR: {scheduler.get_last_lr()[0]:.6f}\")\n",
    "    print(f\"Train Accuracy: {train_accuracy:.2f}% | Validation Accuracy: {val_accuracy:.2f}%\\\\n\")\n"
   ]
  },
  {
   "cell_type": "code",
   "execution_count": 85,
   "id": "88e7dea1-c849-46fa-81a3-56922357fabe",
   "metadata": {},
   "outputs": [
    {
     "name": "stdout",
     "output_type": "stream",
     "text": [
      " Accuracy on MNIST test images: 34.11%\n"
     ]
    }
   ],
   "source": [
    "# Evaluation on MNIST test dataset\n",
    "model.eval()\n",
    "correct_test = 0\n",
    "total_test = 0\n",
    "\n",
    "with torch.no_grad():\n",
    "    for images, labels in test_loader:\n",
    "        images, labels = images.to(device), labels.to(device)\n",
    "        outputs = model(images)\n",
    "        _, predicted = torch.max(outputs, 1)\n",
    "        total_test += labels.size(0)\n",
    "        correct_test += (predicted == labels).sum().item()\n",
    "\n",
    "test_accuracy = 100 * correct_test / total_test\n",
    "print(f\" Accuracy on MNIST test images: {test_accuracy:.2f}%\")\n"
   ]
  },
  {
   "cell_type": "code",
   "execution_count": 86,
   "id": "c422c129-7d12-438e-b43f-16c8ad1068a4",
   "metadata": {},
   "outputs": [
    {
     "name": "stdout",
     "output_type": "stream",
     "text": [
      "Accuracy on Group-Collected Digits: 29.39%\n"
     ]
    }
   ],
   "source": [
    "# Evaluation on group-collected digit images\n",
    "model.eval()\n",
    "images_tensor = images_tensor.to(device)\n",
    "labels_tensor = labels_tensor.to(device)\n",
    "\n",
    "with torch.no_grad():\n",
    "    outputs = model(images_tensor)\n",
    "    _, predicted = torch.max(outputs, 1)\n",
    "    correct_group = (predicted == labels_tensor).sum().item()\n",
    "    total_group = labels_tensor.size(0)\n",
    "\n",
    "group_accuracy = 100 * correct_group / total_group\n",
    "\n",
    "# print(f\" Predictions: {predicted.cpu().numpy()}\")\n",
    "# print(f\"Ground Truth: {labels_tensor.cpu().numpy()}\")\n",
    "print(f\"Accuracy on Group-Collected Digits: {group_accuracy:.2f}%\")\n"
   ]
  },
  {
   "cell_type": "markdown",
   "id": "9c933844-1395-475a-aca6-878d8b534d03",
   "metadata": {},
   "source": [
    "## Grid Search"
   ]
  },
  {
   "cell_type": "code",
   "execution_count": 87,
   "id": "fa257893-62a7-45f8-b68d-5b7e08fee23a",
   "metadata": {},
   "outputs": [],
   "source": [
    "import itertools\n",
    "\n",
    "# Flexible MLP class for grid search\n",
    "class MLP_Tuned_GridSearch(nn.Module):\n",
    "    def __init__(self, input_size, hidden1, hidden2, dropout_rate):\n",
    "        super(MLP_Tuned_GridSearch, self).__init__()\n",
    "        self.fc1 = nn.Linear(input_size, hidden1)\n",
    "        self.dropout1 = nn.Dropout(dropout_rate)\n",
    "        self.fc2 = nn.Linear(hidden1, hidden2)\n",
    "        self.dropout2 = nn.Dropout(dropout_rate)\n",
    "        self.fc3 = nn.Linear(hidden2, 10)\n",
    "\n",
    "    def forward(self, x):\n",
    "        x = x.view(-1, 28 * 28)\n",
    "        x = torch.relu(self.dropout1(self.fc1(x)))\n",
    "        x = torch.relu(self.dropout2(self.fc2(x)))\n",
    "        x = self.fc3(x)\n",
    "        return x\n"
   ]
  },
  {
   "cell_type": "code",
   "execution_count": 88,
   "id": "c5d554bd-d878-4e50-898d-5f110e85e741",
   "metadata": {},
   "outputs": [],
   "source": [
    "# Grid of hyperparameters\n",
    "\n",
    "param_grid = {\n",
    "    'lr': [0.001, 0.0005, 0.0003],         \n",
    "    'hidden1': [512, 640],             \n",
    "    'hidden2': [256, 192],           \n",
    "    'dropout': [0.2, 0.25],           \n",
    "    'epochs': [15, 20]                    \n",
    "}\n",
    "\n",
    "device = torch.device(\"cuda\" if torch.cuda.is_available() else \"cpu\")\n",
    "param_combinations = list(itertools.product(*param_grid.values()))\n",
    "\n",
    "val_split = int(len(images_tensor) * 0.2)\n",
    "train_split = len(images_tensor) - val_split\n",
    "train_dataset, val_dataset = random_split(TensorDataset(images_tensor, labels_tensor), [train_split, val_split])\n",
    "\n",
    "train_loader = DataLoader(train_dataset, batch_size=64, shuffle=True)\n",
    "val_loader = DataLoader(val_dataset, batch_size=64, shuffle=False)\n",
    "\n",
    "best_accuracy = 0\n",
    "best_params = None\n",
    "\n",
    "\n",
    "\n",
    "\n"
   ]
  },
  {
   "cell_type": "code",
   "execution_count": 89,
   "id": "533eef1c-69de-432a-bcd5-e388594ec8a8",
   "metadata": {},
   "outputs": [
    {
     "name": "stdout",
     "output_type": "stream",
     "text": [
      "\n",
      "Trying: lr=0.001, hidden1=512, hidden2=256, dropout=0.2, epochs=15\n",
      " Validation Accuracy: 27.27%\n",
      "\n",
      "Trying: lr=0.001, hidden1=512, hidden2=256, dropout=0.2, epochs=20\n",
      " Validation Accuracy: 39.39%\n",
      "\n",
      "Trying: lr=0.001, hidden1=512, hidden2=256, dropout=0.25, epochs=15\n",
      " Validation Accuracy: 24.24%\n",
      "\n",
      "Trying: lr=0.001, hidden1=512, hidden2=256, dropout=0.25, epochs=20\n",
      " Validation Accuracy: 21.21%\n",
      "\n",
      "Trying: lr=0.001, hidden1=512, hidden2=192, dropout=0.2, epochs=15\n",
      " Validation Accuracy: 19.70%\n",
      "\n",
      "Trying: lr=0.001, hidden1=512, hidden2=192, dropout=0.2, epochs=20\n",
      " Validation Accuracy: 25.76%\n",
      "\n",
      "Trying: lr=0.001, hidden1=512, hidden2=192, dropout=0.25, epochs=15\n",
      " Validation Accuracy: 19.70%\n",
      "\n",
      "Trying: lr=0.001, hidden1=512, hidden2=192, dropout=0.25, epochs=20\n",
      " Validation Accuracy: 22.73%\n",
      "\n",
      "Trying: lr=0.001, hidden1=640, hidden2=256, dropout=0.2, epochs=15\n",
      " Validation Accuracy: 10.61%\n",
      "\n",
      "Trying: lr=0.001, hidden1=640, hidden2=256, dropout=0.2, epochs=20\n",
      " Validation Accuracy: 12.12%\n",
      "\n",
      "Trying: lr=0.001, hidden1=640, hidden2=256, dropout=0.25, epochs=15\n",
      " Validation Accuracy: 16.67%\n",
      "\n",
      "Trying: lr=0.001, hidden1=640, hidden2=256, dropout=0.25, epochs=20\n",
      " Validation Accuracy: 18.18%\n",
      "\n",
      "Trying: lr=0.001, hidden1=640, hidden2=192, dropout=0.2, epochs=15\n",
      " Validation Accuracy: 13.64%\n",
      "\n",
      "Trying: lr=0.001, hidden1=640, hidden2=192, dropout=0.2, epochs=20\n",
      " Validation Accuracy: 24.24%\n",
      "\n",
      "Trying: lr=0.001, hidden1=640, hidden2=192, dropout=0.25, epochs=15\n",
      " Validation Accuracy: 30.30%\n",
      "\n",
      "Trying: lr=0.001, hidden1=640, hidden2=192, dropout=0.25, epochs=20\n",
      " Validation Accuracy: 19.70%\n",
      "\n",
      "Trying: lr=0.0005, hidden1=512, hidden2=256, dropout=0.2, epochs=15\n",
      " Validation Accuracy: 15.15%\n",
      "\n",
      "Trying: lr=0.0005, hidden1=512, hidden2=256, dropout=0.2, epochs=20\n",
      " Validation Accuracy: 28.79%\n",
      "\n",
      "Trying: lr=0.0005, hidden1=512, hidden2=256, dropout=0.25, epochs=15\n",
      " Validation Accuracy: 19.70%\n",
      "\n",
      "Trying: lr=0.0005, hidden1=512, hidden2=256, dropout=0.25, epochs=20\n",
      " Validation Accuracy: 21.21%\n",
      "\n",
      "Trying: lr=0.0005, hidden1=512, hidden2=192, dropout=0.2, epochs=15\n",
      " Validation Accuracy: 13.64%\n",
      "\n",
      "Trying: lr=0.0005, hidden1=512, hidden2=192, dropout=0.2, epochs=20\n",
      " Validation Accuracy: 28.79%\n",
      "\n",
      "Trying: lr=0.0005, hidden1=512, hidden2=192, dropout=0.25, epochs=15\n",
      " Validation Accuracy: 19.70%\n",
      "\n",
      "Trying: lr=0.0005, hidden1=512, hidden2=192, dropout=0.25, epochs=20\n",
      " Validation Accuracy: 31.82%\n",
      "\n",
      "Trying: lr=0.0005, hidden1=640, hidden2=256, dropout=0.2, epochs=15\n",
      " Validation Accuracy: 24.24%\n",
      "\n",
      "Trying: lr=0.0005, hidden1=640, hidden2=256, dropout=0.2, epochs=20\n",
      " Validation Accuracy: 27.27%\n",
      "\n",
      "Trying: lr=0.0005, hidden1=640, hidden2=256, dropout=0.25, epochs=15\n",
      " Validation Accuracy: 13.64%\n",
      "\n",
      "Trying: lr=0.0005, hidden1=640, hidden2=256, dropout=0.25, epochs=20\n",
      " Validation Accuracy: 21.21%\n",
      "\n",
      "Trying: lr=0.0005, hidden1=640, hidden2=192, dropout=0.2, epochs=15\n",
      " Validation Accuracy: 13.64%\n",
      "\n",
      "Trying: lr=0.0005, hidden1=640, hidden2=192, dropout=0.2, epochs=20\n",
      " Validation Accuracy: 24.24%\n",
      "\n",
      "Trying: lr=0.0005, hidden1=640, hidden2=192, dropout=0.25, epochs=15\n",
      " Validation Accuracy: 18.18%\n",
      "\n",
      "Trying: lr=0.0005, hidden1=640, hidden2=192, dropout=0.25, epochs=20\n",
      " Validation Accuracy: 24.24%\n",
      "\n",
      "Trying: lr=0.0003, hidden1=512, hidden2=256, dropout=0.2, epochs=15\n",
      " Validation Accuracy: 12.12%\n",
      "\n",
      "Trying: lr=0.0003, hidden1=512, hidden2=256, dropout=0.2, epochs=20\n",
      " Validation Accuracy: 15.15%\n",
      "\n",
      "Trying: lr=0.0003, hidden1=512, hidden2=256, dropout=0.25, epochs=15\n",
      " Validation Accuracy: 15.15%\n",
      "\n",
      "Trying: lr=0.0003, hidden1=512, hidden2=256, dropout=0.25, epochs=20\n",
      " Validation Accuracy: 16.67%\n",
      "\n",
      "Trying: lr=0.0003, hidden1=512, hidden2=192, dropout=0.2, epochs=15\n",
      " Validation Accuracy: 15.15%\n",
      "\n",
      "Trying: lr=0.0003, hidden1=512, hidden2=192, dropout=0.2, epochs=20\n",
      " Validation Accuracy: 21.21%\n",
      "\n",
      "Trying: lr=0.0003, hidden1=512, hidden2=192, dropout=0.25, epochs=15\n",
      " Validation Accuracy: 16.67%\n",
      "\n",
      "Trying: lr=0.0003, hidden1=512, hidden2=192, dropout=0.25, epochs=20\n",
      " Validation Accuracy: 19.70%\n",
      "\n",
      "Trying: lr=0.0003, hidden1=640, hidden2=256, dropout=0.2, epochs=15\n",
      " Validation Accuracy: 24.24%\n",
      "\n",
      "Trying: lr=0.0003, hidden1=640, hidden2=256, dropout=0.2, epochs=20\n",
      " Validation Accuracy: 24.24%\n",
      "\n",
      "Trying: lr=0.0003, hidden1=640, hidden2=256, dropout=0.25, epochs=15\n",
      " Validation Accuracy: 10.61%\n",
      "\n",
      "Trying: lr=0.0003, hidden1=640, hidden2=256, dropout=0.25, epochs=20\n",
      " Validation Accuracy: 27.27%\n",
      "\n",
      "Trying: lr=0.0003, hidden1=640, hidden2=192, dropout=0.2, epochs=15\n",
      " Validation Accuracy: 19.70%\n",
      "\n",
      "Trying: lr=0.0003, hidden1=640, hidden2=192, dropout=0.2, epochs=20\n",
      " Validation Accuracy: 18.18%\n",
      "\n",
      "Trying: lr=0.0003, hidden1=640, hidden2=192, dropout=0.25, epochs=15\n",
      " Validation Accuracy: 19.70%\n",
      "\n",
      "Trying: lr=0.0003, hidden1=640, hidden2=192, dropout=0.25, epochs=20\n",
      " Validation Accuracy: 19.70%\n",
      "\n",
      " Best Validation Accuracy: 39.39% with parameters:\n",
      "   lr=0.001, hidden1=512, hidden2=256, dropout=0.2, epochs=20\n"
     ]
    }
   ],
   "source": [
    "for params in param_combinations:\n",
    "    lr, h1, h2, dropout, num_epochs = params\n",
    "    print(f\"\\nTrying: lr={lr}, hidden1={h1}, hidden2={h2}, dropout={dropout}, epochs={num_epochs}\")\n",
    "\n",
    "    model = MLP_Tuned_GridSearch(28*28, h1, h2, dropout).to(device)\n",
    "    optimizer = optim.Adam(model.parameters(), lr=lr)\n",
    "    criterion = nn.CrossEntropyLoss()\n",
    "\n",
    "    # Train\n",
    "    model.train()\n",
    "    for epoch in range(num_epochs):\n",
    "        for images, labels in train_loader:\n",
    "            images, labels = images.to(device), labels.to(device)\n",
    "            optimizer.zero_grad()\n",
    "            outputs = model(images)\n",
    "            loss = criterion(outputs, labels)\n",
    "            loss.backward()\n",
    "            optimizer.step()\n",
    "\n",
    "    # Evaluate on validation set\n",
    "    model.eval()\n",
    "    correct = 0\n",
    "    total = 0\n",
    "    with torch.no_grad():\n",
    "        for images, labels in val_loader:\n",
    "            images, labels = images.to(device), labels.to(device)\n",
    "            outputs = model(images)\n",
    "            _, predicted = torch.max(outputs, 1)\n",
    "            correct += (predicted == labels).sum().item()\n",
    "            total += labels.size(0)\n",
    "\n",
    "    accuracy = 100 * correct / total\n",
    "    print(f\" Validation Accuracy: {accuracy:.2f}%\")\n",
    "\n",
    "    if accuracy > best_accuracy:\n",
    "        best_accuracy = accuracy\n",
    "        best_params = params\n",
    "\n",
    "print(\"\\n Best Validation Accuracy: {:.2f}% with parameters:\".format(best_accuracy))\n",
    "print(f\"   lr={best_params[0]}, hidden1={best_params[1]}, hidden2={best_params[2]}, dropout={best_params[3]}, epochs={best_params[4]}\")\n"
   ]
  },
  {
   "cell_type": "code",
   "execution_count": null,
   "id": "14c4c0ec-cdb6-45c9-94b3-7c1a991cfbc2",
   "metadata": {},
   "outputs": [],
   "source": []
  },
  {
   "cell_type": "code",
   "execution_count": null,
   "id": "af990aef-877f-4543-a8f2-659bba21e0d8",
   "metadata": {},
   "outputs": [],
   "source": []
  }
 ],
 "metadata": {
  "kernelspec": {
   "display_name": "Python 3 (ipykernel)",
   "language": "python",
   "name": "python3"
  },
  "language_info": {
   "codemirror_mode": {
    "name": "ipython",
    "version": 3
   },
   "file_extension": ".py",
   "mimetype": "text/x-python",
   "name": "python",
   "nbconvert_exporter": "python",
   "pygments_lexer": "ipython3",
   "version": "3.13.3"
  }
 },
 "nbformat": 4,
 "nbformat_minor": 5
}
