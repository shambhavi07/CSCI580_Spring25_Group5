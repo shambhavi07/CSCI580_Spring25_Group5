{
 "cells": [
  {
   "cell_type": "code",
   "execution_count": 1,
   "id": "7dc79509-a61e-4198-a392-9207e0426a25",
   "metadata": {},
   "outputs": [],
   "source": [
    "import torch\n",
    "import torchvision\n",
    "import torchvision.transforms as transforms\n",
    "import torch.nn as nn \n",
    "import torch.nn.functional as F\n",
    "import torch.optim as optim\n",
    "from torchvision import datasets, transforms\n",
    "from torch.utils.data import Dataset, DataLoader\n",
    "from torch.utils.data import TensorDataset\n",
    "from torch.utils.data import random_split\n",
    "import matplotlib.pyplot as plt\n",
    "import numpy as np\n",
    "import random\n",
    "import math\n",
    "import pandas as pd\n",
    "import os"
   ]
  },
  {
   "cell_type": "markdown",
   "id": "7e96a201-facc-4848-938d-50503e4c69af",
   "metadata": {},
   "source": [
    "# 2. Data Preparation\n",
    "## 2.1 Define Image Transformations\n",
    "We apply two transformations:\n",
    "\n",
    "- ToTensor() to convert PIL images to Tensors in the [0, 1] range.\n",
    "- Normalize((0.5,), (0.5,)) to shift the range to [-1, 1] for better neural network performance."
   ]
  },
  {
   "cell_type": "code",
   "execution_count": 2,
   "id": "e0e939b4-7245-43ae-b942-48987050b918",
   "metadata": {},
   "outputs": [],
   "source": [
    "transform = transforms.Compose([\n",
    "    # converts image to Tensor (0-1 range)\n",
    "    transforms.ToTensor(),  \n",
    "    # normalize to [-1,1]\n",
    "    transforms.Normalize((0.5,), (0.5,))  \n",
    "])"
   ]
  },
  {
   "cell_type": "code",
   "execution_count": 3,
   "id": "0e7e3f0e-5e5e-4b04-ab82-1a769e2f6f4a",
   "metadata": {},
   "outputs": [],
   "source": [
    "trainset = torchvision.datasets.MNIST(root='./data', download=True, train=True, transform=transform)\n",
    "trainloader = torch.utils.data.DataLoader(trainset, batch_size=64, shuffle=True)\n",
    "\n",
    "testset = torchvision.datasets.MNIST(root='./data', download=True, train=False, transform=transform)\n",
    "testloader = torch.utils.data.DataLoader(testset, batch_size=64, shuffle=False)"
   ]
  },
  {
   "cell_type": "markdown",
   "id": "d5ee1d72-bb52-4675-8e53-3380d9ba50c8",
   "metadata": {},
   "source": [
    "## 2.3 Define Class Labels\n",
    "\n",
    "We create a tuple `classes` containing string labels from 0 to 9, \n",
    "to map numeric labels to human-readable digits for visualization."
   ]
  },
  {
   "cell_type": "code",
   "execution_count": 5,
   "id": "869d2d61-1f66-472e-8031-7ddeadaad192",
   "metadata": {},
   "outputs": [
    {
     "data": {
      "image/png": "[encoded data removed]",
      "text/plain": [
       "<Figure size 640x480 with 1 Axes>"
      ]
     },
     "metadata": {},
     "output_type": "display_data"
    },
    {
     "name": "stdout",
     "output_type": "stream",
     "text": [
      "8 0 3 5 2 6\n"
     ]
    }
   ],
   "source": [
    "# Define classes (digit names)\n",
    "classes = tuple(str(i) for i in range(10))\n",
    "\n",
    "# Function to show our images\n",
    "def imshow(img):\n",
    "    img = img / 2 + 0.5  \n",
    "    npimg = img.numpy()\n",
    "    plt.imshow(np.transpose(npimg, (1, 2, 0)))\n",
    "    plt.axis('off')\n",
    "    plt.show()\n",
    "\n",
    "\n",
    "dataiter = iter(trainloader)\n",
    "images, labels = next(dataiter)\n",
    "\n",
    "imshow(torchvision.utils.make_grid(images[:6]))\n",
    "\n",
    "print(' '.join(f'{classes[labels[j]]}' for j in range(6)))"
   ]
  },
  {
   "cell_type": "code",
   "execution_count": 6,
   "id": "56fd3250-fc9a-4ab1-8e2c-01a375259d45",
   "metadata": {},
   "outputs": [],
   "source": [
    "class MLP(nn.Module):\n",
    "    def __init__(self):\n",
    "        super(MLP, self).__init__()\n",
    "        # First hidden layer\n",
    "        self.fc1 = nn.Linear(28*28, 256)  \n",
    "        # Second hidden layer\n",
    "        self.fc2 = nn.Linear(256, 128)    \n",
    "        # Output layer \n",
    "        self.fc3 = nn.Linear(128, 10)     \n",
    "\n",
    "    def forward(self, x):\n",
    "        x = x.view(-1, 28*28)  \n",
    "        x = torch.relu(self.fc1(x))  \n",
    "        x = torch.relu(self.fc2(x))  \n",
    "        x = self.fc3(x)              \n",
    "        return x"
   ]
  },
  {
   "cell_type": "code",
   "execution_count": 7,
   "id": "e09000a4-87ad-41d0-b5c0-5177a63cc08d",
   "metadata": {},
   "outputs": [
    {
     "name": "stdout",
     "output_type": "stream",
     "text": [
      "Epoch [1/10] Loss: 0.3378\n",
      "Epoch [2/10] Loss: 0.1534\n",
      "Epoch [3/10] Loss: 0.1123\n",
      "Epoch [4/10] Loss: 0.0907\n",
      "Epoch [5/10] Loss: 0.0773\n",
      "Epoch [6/10] Loss: 0.0659\n",
      "Epoch [7/10] Loss: 0.0613\n",
      "Epoch [8/10] Loss: 0.0524\n",
      "Epoch [9/10] Loss: 0.0476\n",
      "Epoch [10/10] Loss: 0.0467\n"
     ]
    }
   ],
   "source": [
    "# Define loss function and optimizer\n",
    "model = MLP()\n",
    "\n",
    "criterion = nn.CrossEntropyLoss()\n",
    "optimizer = optim.Adam(model.parameters(), lr=0.001)\n",
    "\n",
    "# Training loop\n",
    "epochs = 10  \n",
    "\n",
    "for epoch in range(epochs):\n",
    "    running_loss = 0.0\n",
    "    model.train()\n",
    "\n",
    "    for images, labels in trainloader:\n",
    "        optimizer.zero_grad()\n",
    "        outputs = model(images)\n",
    "        loss = criterion(outputs, labels)\n",
    "        loss.backward()\n",
    "        optimizer.step()\n",
    "\n",
    "        running_loss += loss.item()\n",
    "\n",
    "    print(f\"Epoch [{epoch+1}/{epochs}] Loss: {running_loss/len(trainloader):.4f}\")"
   ]
  },
  {
   "cell_type": "code",
   "execution_count": 8,
   "id": "fda59322-6d69-48ea-b433-2caaa1fe4f71",
   "metadata": {},
   "outputs": [
    {
     "name": "stdout",
     "output_type": "stream",
     "text": [
      "Accuracy on MNIST test images: 97.14%\n"
     ]
    }
   ],
   "source": [
    "model.eval()\n",
    "correct = 0\n",
    "total = 0\n",
    "\n",
    "with torch.no_grad():\n",
    "    for images, labels in testloader:\n",
    "        outputs = model(images)\n",
    "        _, predicted = torch.max(outputs.data, 1)\n",
    "        total += labels.size(0)\n",
    "        correct += (predicted == labels).sum().item()\n",
    "\n",
    "print(f'Accuracy on MNIST test images: {100 * correct / total:.2f}%')"
   ]
  },
  {
   "cell_type": "markdown",
   "id": "228ff504-08d8-4fca-b9a3-30203fe68580",
   "metadata": {},
   "source": [
    "### Load and preprocess the handwritten data done using the task 1&2 results from FinalProject_CSCI580"
   ]
  },
  {
   "cell_type": "code",
   "execution_count": 12,
   "id": "785b4663-8c54-46c9-a951-51bd6e727b64",
   "metadata": {},
   "outputs": [],
   "source": [
    "images_tensor = torch.load(\"SavedData/images_tensor.pt\")\n",
    "labels_tensor = torch.load(\"SavedData/labels_tensor.pt\")"
   ]
  },
  {
   "cell_type": "code",
   "execution_count": 13,
   "id": "fcf2cdaa-d593-4fd3-b2da-2219a3fd1640",
   "metadata": {},
   "outputs": [
    {
     "name": "stdout",
     "output_type": "stream",
     "text": [
      "Predictions: [0 0 0 0 2 9 5 0 2 3 0 0 5 5 5 5 7 8 4 9 2 2 1 2 0 2 2 0 0 6 4 0 0 1 5 1 1\n",
      " 1 5 1 8 1 2 2 2 5 5 1 5 1 7 2 5 2 2 2 2 5 5 5 5 5 5 5 2 1 2 2 2 2 2 2 5 5\n",
      " 2 2 2 2 5 5 3 1 4 3 3 2 2 2 2 2 5 2 2 5 2 2 5 2 2 3 5 3 3 3 5 5 8 3 3 3 3\n",
      " 3 3 7 3 2 2 2 9 5 1 2 1 3 2 3 3 3 5 5 2 3 4 4 4 4 4 5 4 8 4 4 9 4 5 5 5 5\n",
      " 8 7 5 9 1 2 2 1 5 1 2 4 5 5 5 8 4 5 8 8 5 5 5 5 5 5 5 5 5 3 3 7 3 9 2 4 5\n",
      " 5 2 2 2 5 5 3 5 5 5 9 5 5 6 6 6 6 0 2 6 5 5 6 2 2 5 5 9 5 4 4 7 8 1 2 1 2\n",
      " 2 5 5 2 2 4 4 2 2 0 8 7 3 3 2 7 5 3 3 7 3 7 3 7 3 8 2 2 3 2 2 2 2 5 2 1 2\n",
      " 9 1 8 7 1 2 8 8 3 8 2 8 8 8 8 8 2 3 7 5 1 8 3 2 8 5 2 5 2 5 5 5 2 5 4 3 8\n",
      " 8 3 3 9 1 1 5 1 8 9 9 8 6 3 7 7 2 3 0 2 1 1 2 1 1 5 5 3 3 5 9 9 9 1]\n",
      "Ground Truth: [0 0 0 0 0 0 0 0 0 0 0 0 0 0 0 0 0 0 0 0 0 0 0 0 0 0 0 0 0 0 0 0 0 1 1 1 1\n",
      " 1 1 1 1 1 1 1 1 1 1 1 1 1 1 1 1 1 1 1 1 1 1 1 1 1 1 1 1 1 2 2 2 2 2 2 2 2\n",
      " 2 2 2 2 2 2 2 2 2 2 2 2 2 2 2 2 2 2 2 2 2 2 2 2 2 3 3 3 3 3 3 3 3 3 3 3 3\n",
      " 3 3 3 3 3 3 3 3 3 3 3 3 3 3 3 3 3 3 3 3 3 4 4 4 4 4 4 4 4 4 4 4 4 4 4 4 4\n",
      " 4 4 4 4 4 4 4 4 4 4 4 4 4 4 4 4 4 5 5 5 5 5 5 5 5 5 5 5 5 5 5 5 5 5 5 5 5\n",
      " 5 5 5 5 5 5 5 5 5 5 5 5 5 6 6 6 6 6 6 6 6 6 6 6 6 6 6 6 6 6 6 6 6 6 6 6 6\n",
      " 6 6 6 6 6 6 6 6 6 7 7 7 7 7 7 7 7 7 7 7 7 7 7 7 7 7 7 7 7 7 7 7 7 7 7 7 7\n",
      " 7 7 7 7 7 8 8 8 8 8 8 8 8 8 8 8 8 8 8 8 8 8 8 8 8 8 8 8 8 8 8 8 8 8 8 8 8\n",
      " 8 9 9 9 9 9 9 9 9 9 9 9 9 9 9 9 9 9 9 9 9 9 9 9 9 9 9 9 9 9 9 9 9 9]\n",
      "Accuracy on Group Digits: 35.76%\n"
     ]
    }
   ],
   "source": [
    "device = torch.device(\"cuda\" if torch.cuda.is_available() else \"cpu\")\n",
    "\n",
    "# Move tensors to the device\n",
    "images_tensor = images_tensor.to(device)\n",
    "labels_tensor = labels_tensor.to(device)\n",
    "\n",
    "images_tensor = images_tensor.to(device)\n",
    "labels_tensor = labels_tensor.to(device)\n",
    "\n",
    "model.eval()\n",
    "\n",
    "# Disable gradient calculation for efficiency\n",
    "with torch.no_grad():\n",
    "    outputs = model(images_tensor)              \n",
    "    _, predicted = torch.max(outputs, 1)        \n",
    "    correct = (predicted == labels_tensor).sum().item()\n",
    "    total = labels_tensor.size(0)\n",
    "    accuracy = 100 * correct / total\n",
    "\n",
    "print(\"Predictions:\", predicted.cpu().numpy())\n",
    "print(\"Ground Truth:\", labels_tensor.cpu().numpy())\n",
    "print(f\"Accuracy on Group Digits: {accuracy:.2f}%\")"
   ]
  },
  {
   "cell_type": "code",
   "execution_count": 14,
   "id": "e8a43ce8-3760-4e01-9454-3277254af03e",
   "metadata": {},
   "outputs": [
    {
     "data": {
      "image/png": "[encoded data removed]",
      "text/plain": [
       "<Figure size 1500x300 with 10 Axes>"
      ]
     },
     "metadata": {},
     "output_type": "display_data"
    }
   ],
   "source": [
    "import matplotlib.pyplot as plt\n",
    "\n",
    "model.eval()\n",
    "with torch.no_grad():\n",
    "    outputs = model(images_tensor)\n",
    "    _, predicted = torch.max(outputs, 1)\n",
    "\n",
    "images_cpu = images_tensor.cpu()\n",
    "predicted_cpu = predicted.cpu()\n",
    "labels_cpu = labels_tensor.cpu()\n",
    "\n",
    "N = min(10, len(images_cpu))  \n",
    "plt.figure(figsize=(15, 3))\n",
    "\n",
    "for i in range(N):\n",
    "    plt.subplot(1, N, i + 1)\n",
    "    plt.imshow(images_cpu[i].squeeze(), cmap='gray')\n",
    "    plt.title(f\"P: {predicted_cpu[i].item()}\\nT: {labels_cpu[i].item()}\")\n",
    "    plt.axis('off')\n",
    "\n",
    "plt.tight_layout()\n",
    "plt.show()"
   ]
  },
  {
   "cell_type": "code",
   "execution_count": 15,
   "id": "d191b789-7e1d-4a97-a578-97f884061e71",
   "metadata": {},
   "outputs": [
    {
     "data": {
      "image/png": "[encoded data removed]",
      "text/plain": [
       "<Figure size 1500x300 with 10 Axes>"
      ]
     },
     "metadata": {},
     "output_type": "display_data"
    }
   ],
   "source": [
    "# Find indices of misclassified images\n",
    "misclassified_indices = (predicted_cpu != labels_cpu).nonzero().flatten()\n",
    "\n",
    "# Show up to 10 misclassified images\n",
    "N = min(10, len(misclassified_indices))\n",
    "plt.figure(figsize=(15, 3))\n",
    "\n",
    "for i in range(N):\n",
    "    idx = misclassified_indices[i]\n",
    "    plt.subplot(1, N, i + 1)\n",
    "    plt.imshow(images_cpu[idx].squeeze(), cmap='gray')\n",
    "    plt.title(f\"P: {predicted_cpu[idx].item()}\\nT: {labels_cpu[idx].item()}\")\n",
    "    plt.axis('off')\n",
    "\n",
    "plt.tight_layout()\n",
    "plt.show()"
   ]
  },
  {
   "cell_type": "markdown",
   "id": "841d657b-2f9c-43a2-b9dd-c6bfe803e469",
   "metadata": {},
   "source": [
    "### Hyperparameter tuning"
   ]
  },
  {
   "cell_type": "code",
   "execution_count": 16,
   "id": "7e06dc4b-0008-435f-bab6-3da69824801c",
   "metadata": {},
   "outputs": [],
   "source": [
    "from torchvision import datasets\n",
    "from torch.utils.data import DataLoader\n",
    "\n",
    "transform = transforms.Compose([\n",
    "    transforms.ToTensor(),\n",
    "    transforms.Normalize((0.5,), (0.5,))\n",
    "])\n",
    "\n",
    "train_set = datasets.MNIST(root='./data', train=True, download=True, transform=transform)\n",
    "test_set = datasets.MNIST(root='./data', train=False, download=True, transform=transform)\n",
    "\n",
    "train_loader = DataLoader(train_set, batch_size=64, shuffle=True)\n",
    "test_loader = DataLoader(test_set, batch_size=64, shuffle=False)"
   ]
  },
  {
   "cell_type": "code",
   "execution_count": 17,
   "id": "c0f24078-1b36-4820-9553-8e0bfb0c6044",
   "metadata": {},
   "outputs": [],
   "source": [
    "def train_and_evaluate(hidden_sizes, lr, optimizer_name, num_epochs=10):\n",
    "    # Define model architecture dynamically\n",
    "    layers = [nn.Flatten()]\n",
    "    input_size = 28 * 28\n",
    "    for h in hidden_sizes:\n",
    "        layers.append(nn.Linear(input_size, h))\n",
    "        layers.append(nn.ReLU())\n",
    "        input_size = h\n",
    "    layers.append(nn.Linear(input_size, 10))\n",
    "    model = nn.Sequential(*layers).to(device)\n",
    "\n",
    "    # Loss and optimizer\n",
    "    criterion = nn.CrossEntropyLoss()\n",
    "    if optimizer_name == 'SGD':\n",
    "        optimizer = optim.SGD(model.parameters(), lr=lr, momentum=0.9)\n",
    "    elif optimizer_name == 'Adam':\n",
    "        optimizer = optim.Adam(model.parameters(), lr=lr)\n",
    "    else:\n",
    "        raise ValueError(\"Unsupported optimizer\")\n",
    "\n",
    "    # Training loop\n",
    "    for epoch in range(num_epochs):\n",
    "        model.train()\n",
    "        for inputs, labels in train_loader:\n",
    "            inputs, labels = inputs.to(device), labels.to(device)\n",
    "            optimizer.zero_grad()\n",
    "            outputs = model(inputs)\n",
    "            loss = criterion(outputs, labels)\n",
    "            loss.backward()\n",
    "            optimizer.step()\n",
    "\n",
    "    # Evaluate on MNIST test\n",
    "    model.eval()\n",
    "    correct_mnist, total_mnist = 0, 0\n",
    "    with torch.no_grad():\n",
    "        for inputs, labels in test_loader:\n",
    "            inputs, labels = inputs.to(device), labels.to(device)\n",
    "            outputs = model(inputs)\n",
    "            _, predicted = torch.max(outputs, 1)\n",
    "            total_mnist += labels.size(0)\n",
    "            correct_mnist += (predicted == labels).sum().item()\n",
    "    mnist_acc = 100 * correct_mnist / total_mnist\n",
    "\n",
    "    # Evaluate on team digits\n",
    "    with torch.no_grad():\n",
    "        outputs = model(images_tensor)\n",
    "        _, predicted = torch.max(outputs, 1)\n",
    "        correct_group = (predicted == labels_tensor).sum().item()\n",
    "        group_acc = 100 * correct_group / labels_tensor.size(0)\n",
    "\n",
    "    return mnist_acc, group_acc"
   ]
  },
  {
   "cell_type": "code",
   "execution_count": 18,
   "id": "d4e5bacb-70bd-4174-afbe-3d13761fdebb",
   "metadata": {},
   "outputs": [
    {
     "name": "stdout",
     "output_type": "stream",
     "text": [
      "Running config 1: {'hidden_sizes': [256, 128], 'lr': 0.01, 'opt': 'SGD'}\n",
      "MNIST Acc: 97.87% | Group Acc: 36.36%\n",
      "\n",
      "Running config 2: {'hidden_sizes': [512, 256], 'lr': 0.001, 'opt': 'Adam'}\n",
      "MNIST Acc: 97.60% | Group Acc: 33.64%\n",
      "\n",
      "Running config 3: {'hidden_sizes': [128], 'lr': 0.01, 'opt': 'SGD'}\n",
      "MNIST Acc: 97.38% | Group Acc: 35.45%\n",
      "\n",
      "Running config 4: {'hidden_sizes': [256], 'lr': 0.001, 'opt': 'Adam'}\n",
      "MNIST Acc: 97.42% | Group Acc: 29.70%\n",
      "\n"
     ]
    }
   ],
   "source": [
    "configs = [\n",
    "    {'hidden_sizes': [256, 128], 'lr': 0.01, 'opt': 'SGD'},\n",
    "    {'hidden_sizes': [512, 256], 'lr': 0.001, 'opt': 'Adam'},\n",
    "    {'hidden_sizes': [128],      'lr': 0.01, 'opt': 'SGD'},\n",
    "    {'hidden_sizes': [256],      'lr': 0.001, 'opt': 'Adam'},\n",
    "]\n",
    "\n",
    "results = []\n",
    "\n",
    "for i, config in enumerate(configs):\n",
    "    print(f\"Running config {i+1}: {config}\")\n",
    "    mnist_acc, group_acc = train_and_evaluate(config['hidden_sizes'], config['lr'], config['opt'])\n",
    "    results.append((config, mnist_acc, group_acc))\n",
    "    print(f\"MNIST Acc: {mnist_acc:.2f}% | Group Acc: {group_acc:.2f}%\\n\")"
   ]
  },
  {
   "cell_type": "code",
   "execution_count": 19,
   "id": "8f62de82-dc43-4a63-92e8-8d5bdc4d1db2",
   "metadata": {},
   "outputs": [
    {
     "name": "stdout",
     "output_type": "stream",
     "text": [
      "Summary of Hyperparameter Tuning:\n",
      "\n",
      "Config 1: {'hidden_sizes': [256, 128], 'lr': 0.01, 'opt': 'SGD'}\n",
      "  -> MNIST Accuracy: 97.87%\n",
      "  -> Group Accuracy: 36.36%\n",
      "\n",
      "Config 2: {'hidden_sizes': [512, 256], 'lr': 0.001, 'opt': 'Adam'}\n",
      "  -> MNIST Accuracy: 97.60%\n",
      "  -> Group Accuracy: 33.64%\n",
      "\n",
      "Config 3: {'hidden_sizes': [128], 'lr': 0.01, 'opt': 'SGD'}\n",
      "  -> MNIST Accuracy: 97.38%\n",
      "  -> Group Accuracy: 35.45%\n",
      "\n",
      "Config 4: {'hidden_sizes': [256], 'lr': 0.001, 'opt': 'Adam'}\n",
      "  -> MNIST Accuracy: 97.42%\n",
      "  -> Group Accuracy: 29.70%\n",
      "\n"
     ]
    }
   ],
   "source": [
    "print(\"Summary of Hyperparameter Tuning:\\n\")\n",
    "for i, (cfg, mnist_acc, group_acc) in enumerate(results):\n",
    "    print(f\"Config {i+1}: {cfg}\")\n",
    "    print(f\"  -> MNIST Accuracy: {mnist_acc:.2f}%\")\n",
    "    print(f\"  -> Group Accuracy: {group_acc:.2f}%\\n\")"
   ]
  },
  {
   "cell_type": "code",
   "execution_count": null,
   "id": "262c3304-1a9b-404d-ae57-1b151dd63d9a",
   "metadata": {},
   "outputs": [],
   "source": []
  }
 ],
 "metadata": {
  "kernelspec": {
   "display_name": "Python 3 (ipykernel)",
   "language": "python",
   "name": "python3"
  },
  "language_info": {
   "codemirror_mode": {
    "name": "ipython",
    "version": 3
   },
   "file_extension": ".py",
   "mimetype": "text/x-python",
   "name": "python",
   "nbconvert_exporter": "python",
   "pygments_lexer": "ipython3",
   "version": "3.9.19"
  }
 },
 "nbformat": 4,
 "nbformat_minor": 5
}
