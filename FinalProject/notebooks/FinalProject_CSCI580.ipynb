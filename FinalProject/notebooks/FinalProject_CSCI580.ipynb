{
 "cells": [
  {
   "cell_type": "markdown",
   "id": "a2ecf610-5018-447b-a2ef-0bf1cfc7add6",
   "metadata": {},
   "source": [
    "# FINAL PROJECT: MNIST handwritten digit images to train a MLP  \n",
    "### Group 5: Shambhavi Danayak, Kimaya D Sawant, Pradnya R Ghadge, "
   ]
  },
  {
   "cell_type": "markdown",
   "id": "0dff24d8",
   "metadata": {},
   "source": [
    "#  1. Import Libraries\n",
    "\n",
    "We first import all necessary libraries including PyTorch, torchvision for datasets and transforms, and matplotlib/numpy for visualization."
   ]
  },
  {
   "cell_type": "code",
   "execution_count": 57,
   "id": "66f15db4",
   "metadata": {},
   "outputs": [],
   "source": [
    "import torch\n",
    "import torchvision\n",
    "import torchvision.transforms as transforms\n",
    "import torch.nn as nn\n",
    "import torch.optim as optim\n",
    "from torchvision import datasets, transforms\n",
    "from torch.utils.data import Dataset, DataLoader\n",
    "from torch.utils.data import TensorDataset\n",
    "from torch.utils.data import random_split\n",
    "import matplotlib.pyplot as plt\n",
    "import numpy as np\n",
    "import random\n",
    "import math"
   ]
  },
  {
   "cell_type": "markdown",
   "id": "b269c42c-bf78-4204-9faf-bd04647a19e5",
   "metadata": {},
   "source": [
    "## TASK 2: \n",
    "a helper function that can read all image files (following filename convention defined in Task1) into a Numpy array, and assign the corresponding labels in another Numpy array.  \n",
    "- load \".png\" handwritten data\n",
    "- extract label\n",
    "- verify shape\n",
    "- return images and labels"
   ]
  },
  {
   "cell_type": "code",
   "execution_count": 14,
   "id": "1348b70a-4ca8-4efd-818f-7e72d9877f9d",
   "metadata": {},
   "outputs": [],
   "source": [
    "import os\n",
    "from PIL import Image"
   ]
  },
  {
   "cell_type": "code",
   "execution_count": 15,
   "id": "0b73fd7e-a9de-413b-a3e6-3f4ab7df6535",
   "metadata": {},
   "outputs": [],
   "source": [
    "def ProjectDataLoader(folder_path=\"../HandwrittenData/digits\"):\n",
    "    image_list = [] #stores image pixels\n",
    "    label_list = [] #corresponding digit labels\n",
    "\n",
    "    for filename in os.listdir(folder_path):\n",
    "        if filename.endswith(\".png\") and filename[0].isdigit():\n",
    "            try:\n",
    "                label = int(filename.split(\"-\")[0])\n",
    "\n",
    "                img_path = os.path.join(folder_path, filename)\n",
    "                image = Image.open(img_path).convert(\"L\")  # \"L\" = 8-bit pixels, black and white\n",
    "                # Resize \n",
    "                image_array = np.array(image)\n",
    "\n",
    "                if image_array.shape != (28, 28):\n",
    "                    raise ValueError(f\"Image {filename} is not 28x28 pixels\")\n",
    "\n",
    "                image_list.append(image_array)\n",
    "                label_list.append(label)\n",
    "\n",
    "            except Exception as e:\n",
    "                print(f\"Skipping {filename}: {e}\")\n",
    "\n",
    "    images = np.array(image_list, dtype=np.uint8)\n",
    "    labels = np.array(label_list, dtype=np.int64)\n",
    "\n",
    "    print(f\"Loaded {len(images)} images and labels.\")\n",
    "    return images, labels\n"
   ]
  },
  {
   "cell_type": "code",
   "execution_count": 16,
   "id": "d43377f0-5477-440b-8b51-95fa2961437a",
   "metadata": {},
   "outputs": [
    {
     "name": "stdout",
     "output_type": "stream",
     "text": [
      "Loaded 330 images and labels.\n",
      "Shape of image set: (330, 28, 28)\n",
      "Sample label: 9\n"
     ]
    }
   ],
   "source": [
    "images, labels = ProjectDataLoader()\n",
    "print(\"Shape of image set:\", images.shape)\n",
    "print(\"Sample label:\", labels[0])"
   ]
  },
  {
   "cell_type": "code",
   "execution_count": 17,
   "id": "b20e8154-ad28-42da-84b2-2b324c72ebe5",
   "metadata": {},
   "outputs": [
    {
     "data": {
      "image/png": "[encoded data removed]",
      "text/plain": [
       "<Figure size 1200x300 with 5 Axes>"
      ]
     },
     "metadata": {},
     "output_type": "display_data"
    }
   ],
   "source": [
    "num_images = 5\n",
    "\n",
    "fig, axes = plt.subplots(1, num_images, figsize=(12, 3))  \n",
    "\n",
    "for i in range(num_images):\n",
    "    axes[i].imshow(images[i], cmap='gray')\n",
    "    axes[i].set_title(f\"Label: {labels[i]}\")\n",
    "    axes[i].axis('off')  \n",
    "\n",
    "plt.tight_layout()\n",
    "plt.show()"
   ]
  },
  {
   "cell_type": "code",
   "execution_count": null,
   "id": "16284c32-3122-454d-aa17-e538b2a22d8f",
   "metadata": {},
   "outputs": [],
   "source": []
  },
  {
   "cell_type": "markdown",
   "id": "a5d8b3bc-6c4f-4c08-a176-a58082bb793a",
   "metadata": {},
   "source": [
    "## Task 3: Preprocess image data using Pytorch"
   ]
  },
  {
   "cell_type": "code",
   "execution_count": 18,
   "id": "a04ebc54-7065-4fd1-adba-c6ebbe85ea53",
   "metadata": {},
   "outputs": [],
   "source": [
    "def preprocess_images(images_np):\n",
    "    preprocess = transforms.Compose([\n",
    "        transforms.ToTensor(),                         \n",
    "        transforms.Normalize((0.5,), (0.5,))           \n",
    "    ])\n",
    "\n",
    "    processed_images = []\n",
    "    for i in range(images_np.shape[0]):\n",
    "        img_tensor = preprocess(images_np[i])          \n",
    "        processed_images.append(img_tensor)\n",
    "\n",
    "    # Stack into a single tensor: shape → (N, 1, 28, 28)\n",
    "    return torch.stack(processed_images)"
   ]
  },
  {
   "cell_type": "code",
   "execution_count": 19,
   "id": "1e00db94-7331-4b3e-bc70-3f775b41872c",
   "metadata": {},
   "outputs": [],
   "source": [
    "images_tensor = preprocess_images(images)     \n",
    "labels_tensor = torch.from_numpy(labels) "
   ]
  },
  {
   "cell_type": "code",
   "execution_count": 20,
   "id": "0899abf4-734a-4cfe-b8ec-5485e2dde6e3",
   "metadata": {},
   "outputs": [
    {
     "name": "stdout",
     "output_type": "stream",
     "text": [
      "Processed image tensor shape: torch.Size([330, 1, 28, 28])\n",
      "Pixel range: -1.0 to 1.0\n"
     ]
    }
   ],
   "source": [
    "print(\"Processed image tensor shape:\", images_tensor.shape)\n",
    "print(\"Pixel range:\", images_tensor.min().item(), \"to\", images_tensor.max().item())"
   ]
  },
  {
   "cell_type": "code",
   "execution_count": 21,
   "id": "a165ecaf-0101-47ad-b829-53f84069d8cd",
   "metadata": {},
   "outputs": [],
   "source": [
    "os.makedirs(\"SavedData\", exist_ok=True)\n",
    "torch.save(images_tensor, \"SavedData/images_tensor.pt\")\n",
    "torch.save(labels_tensor, \"SavedData/labels_tensor.pt\")"
   ]
  },
  {
   "cell_type": "code",
   "execution_count": 22,
   "id": "e96a2beb-69ca-465c-8276-a3b482b0b1c0",
   "metadata": {},
   "outputs": [
    {
     "data": {
      "image/png": "[encoded data removed]",
      "text/plain": [
       "<Figure size 2000x200 with 10 Axes>"
      ]
     },
     "metadata": {},
     "output_type": "display_data"
    }
   ],
   "source": [
    "images_tensor = torch.load(\"SavedData/images_tensor.pt\")\n",
    "labels_tensor = torch.load(\"SavedData/labels_tensor.pt\")\n",
    "def show_random_images(images_tensor, labels_tensor, n=10):\n",
    "    indices = random.sample(range(len(images_tensor)), n)\n",
    "    plt.figure(figsize=(n * 2, 2))\n",
    "    for i, idx in enumerate(indices):\n",
    "        image = images_tensor[idx].squeeze().numpy()\n",
    "        label = labels_tensor[idx].item()\n",
    "\n",
    "        plt.subplot(1, n, i + 1)\n",
    "        plt.imshow(image, cmap=\"gray\")\n",
    "        plt.title(f\"Label: {label}\")\n",
    "        plt.axis(\"off\")\n",
    "    plt.tight_layout()\n",
    "    plt.show()\n",
    "\n",
    "# Usage:\n",
    "show_random_images(images_tensor, labels_tensor, n=10)"
   ]
  },
  {
   "cell_type": "code",
   "execution_count": null,
   "id": "d314ade7-4d18-47cd-aa6e-07f591b92029",
   "metadata": {},
   "outputs": [],
   "source": []
  },
  {
   "cell_type": "markdown",
   "id": "c3a273e5-f4a5-4e51-ad42-94937b8b7936",
   "metadata": {},
   "source": [
    "# Train MLP on MNIST"
   ]
  },
  {
   "cell_type": "markdown",
   "id": "046772c2-e6ed-4eb1-a315-03d50217b256",
   "metadata": {},
   "source": [
    "### load MNIST dataset"
   ]
  },
  {
   "cell_type": "code",
   "execution_count": 23,
   "id": "8b79e27e-88b9-4a0b-b643-3dd86ce2dcd7",
   "metadata": {},
   "outputs": [],
   "source": [
    "# doing this again as MNIST DATASET is not in the form of NumPy array\n",
    "transform = transforms.Compose([\n",
    "    transforms.ToTensor(),\n",
    "    transforms.Normalize((0.5,), (0.5,))\n",
    "])"
   ]
  },
  {
   "cell_type": "code",
   "execution_count": 24,
   "id": "ef89ebcd-186a-43b4-a025-433ce4bb7697",
   "metadata": {},
   "outputs": [
    {
     "name": "stderr",
     "output_type": "stream",
     "text": [
      "100%|█████████████████████████████████████████████████████████████| 9.91M/9.91M [00:12<00:00, 772kB/s]\n",
      "100%|█████████████████████████████████████████████████████████████| 28.9k/28.9k [00:00<00:00, 276kB/s]\n",
      "100%|████████████████████████████████████████████████████████████| 1.65M/1.65M [00:00<00:00, 2.96MB/s]\n",
      "100%|████████████████████████████████████████████████████████████| 4.54k/4.54k [00:00<00:00, 1.52MB/s]\n"
     ]
    }
   ],
   "source": [
    "train_dataset = datasets.MNIST(root=\"./data\", train=True, download=True, transform=transform) #~60000 train images\n",
    "test_dataset = datasets.MNIST(root=\"./data\", train=False, download=True, transform=transform) #~10000 test images\n",
    "\n",
    "train_dataset, val_dataset = random_split(train_dataset, [50000, 10000])\n",
    "\n",
    "# Dataloaders\n",
    "train_loader = DataLoader(train_dataset, batch_size=64, shuffle=True)\n",
    "val_loader = DataLoader(val_dataset, batch_size=64, shuffle=False)\n",
    "test_loader = DataLoader(test_dataset, batch_size=64, shuffle=False)"
   ]
  },
  {
   "cell_type": "code",
   "execution_count": 25,
   "id": "0b1a14b4-f95c-4d95-8464-23296f9fba40",
   "metadata": {},
   "outputs": [],
   "source": [
    "## visualize  loaded data (Train= Learn, Val= Tune, Test= Prove)"
   ]
  },
  {
   "cell_type": "code",
   "execution_count": 26,
   "id": "279a591b-ff66-43eb-9e14-ae370745e83c",
   "metadata": {},
   "outputs": [
    {
     "data": {
      "image/png": "[encoded data removed]",
      "text/plain": [
       "<Figure size 1000x200 with 1 Axes>"
      ]
     },
     "metadata": {},
     "output_type": "display_data"
    },
    {
     "data": {
      "image/png": "[encoded data removed]",
      "text/plain": [
       "<Figure size 1000x200 with 1 Axes>"
      ]
     },
     "metadata": {},
     "output_type": "display_data"
    },
    {
     "data": {
      "image/png": "[encoded data removed]",
      "text/plain": [
       "<Figure size 1000x200 with 1 Axes>"
      ]
     },
     "metadata": {},
     "output_type": "display_data"
    }
   ],
   "source": [
    "def show_batch(loader, title=\"Sample Images from DataLoader\"):\n",
    "    images, labels = next(iter(loader))  \n",
    "    img_grid = torchvision.utils.make_grid(images[:8], nrow=8, padding=2, normalize=True)\n",
    "\n",
    "    plt.figure(figsize=(10, 2))\n",
    "    plt.imshow(img_grid.permute(1, 2, 0))  \n",
    "    plt.title(title)\n",
    "    plt.axis(\"off\")\n",
    "    plt.show()\n",
    "\n",
    "show_batch(train_loader, title=\"Train Set Samples\")\n",
    "show_batch(val_loader, title=\"Validation Set Samples\")\n",
    "show_batch(test_loader, title=\"Test Set Samples\")"
   ]
  },
  {
   "cell_type": "code",
   "execution_count": 27,
   "id": "c82f68c1-b3fc-46f1-8a72-bb826f8e287b",
   "metadata": {},
   "outputs": [],
   "source": [
    "## MLP Architecture (2 hidden, 1 input , 1 output layer), with ReLU, loss function CrossEntropyLoss, lr=0.001 and 10 rpochs"
   ]
  },
  {
   "cell_type": "code",
   "execution_count": 28,
   "id": "bc20f607-fe16-4984-b0d3-e37200a68c2c",
   "metadata": {},
   "outputs": [
    {
     "name": "stdout",
     "output_type": "stream",
     "text": [
      "Epoch [1/10] Train Loss: 0.3684 | Train Acc: 88.79% | Val Loss: 0.1972 | Val Acc: 94.04%\n",
      "Epoch [2/10] Train Loss: 0.1722 | Train Acc: 94.74% | Val Loss: 0.1527 | Val Acc: 95.23%\n",
      "Epoch [3/10] Train Loss: 0.1243 | Train Acc: 96.08% | Val Loss: 0.1202 | Val Acc: 95.96%\n",
      "Epoch [4/10] Train Loss: 0.0992 | Train Acc: 96.83% | Val Loss: 0.1300 | Val Acc: 95.83%\n",
      "Epoch [5/10] Train Loss: 0.0853 | Train Acc: 97.24% | Val Loss: 0.1176 | Val Acc: 96.32%\n",
      "Epoch [6/10] Train Loss: 0.0716 | Train Acc: 97.68% | Val Loss: 0.1339 | Val Acc: 95.82%\n",
      "Epoch [7/10] Train Loss: 0.0639 | Train Acc: 97.96% | Val Loss: 0.1012 | Val Acc: 96.93%\n",
      "Epoch [8/10] Train Loss: 0.0572 | Train Acc: 98.18% | Val Loss: 0.0978 | Val Acc: 97.17%\n",
      "Epoch [9/10] Train Loss: 0.0518 | Train Acc: 98.28% | Val Loss: 0.0917 | Val Acc: 97.37%\n",
      "Epoch [10/10] Train Loss: 0.0434 | Train Acc: 98.54% | Val Loss: 0.1052 | Val Acc: 96.81%\n",
      "Model saved successfully!\n"
     ]
    }
   ],
   "source": [
    "class MLP(nn.Module):\n",
    "    def __init__(self):\n",
    "        super(MLP, self).__init__()\n",
    "        self.model = nn.Sequential(\n",
    "            nn.Flatten(),                  \n",
    "            nn.Linear(784, 256), #hidden layer 1\n",
    "            nn.ReLU(),\n",
    "            nn.Linear(256, 128), #hidden layer 2\n",
    "            nn.ReLU(),\n",
    "            nn.Linear(128, 10) #output layer 10 neurons since we have classes           \n",
    "        )\n",
    "\n",
    "    def forward(self, x):\n",
    "        return self.model(x)\n",
    "\n",
    "model = MLP()\n",
    "\n",
    "criterion = nn.CrossEntropyLoss()\n",
    "optimizer = optim.Adam(model.parameters(), lr=0.001)\n",
    "\n",
    "device = torch.device(\"cuda\" if torch.cuda.is_available() else \"cpu\")\n",
    "model.to(device)\n",
    "\n",
    "num_epochs = 10\n",
    "for epoch in range(num_epochs):\n",
    "    model.train()\n",
    "    running_loss = 0\n",
    "    correct = 0\n",
    "    total = 0\n",
    "\n",
    "    for images, labels in train_loader:\n",
    "        images, labels = images.to(device), labels.to(device)\n",
    "\n",
    "        optimizer.zero_grad()\n",
    "        outputs = model(images)\n",
    "        loss = criterion(outputs, labels)\n",
    "        loss.backward()\n",
    "        optimizer.step()\n",
    "\n",
    "        running_loss += loss.item()\n",
    "        _, predicted = outputs.max(1)\n",
    "        total += labels.size(0)\n",
    "        correct += (predicted == labels).sum().item()\n",
    "\n",
    "    train_acc = 100 * correct / total\n",
    "\n",
    "    # Validation loop\n",
    "    model.eval()\n",
    "    val_loss = 0\n",
    "    val_correct = 0\n",
    "    val_total = 0\n",
    "\n",
    "    with torch.no_grad():\n",
    "        for images, labels in val_loader:\n",
    "            images, labels = images.to(device), labels.to(device)\n",
    "            outputs = model(images)\n",
    "            loss = criterion(outputs, labels)\n",
    "\n",
    "            val_loss += loss.item()\n",
    "            _, predicted = outputs.max(1)\n",
    "            val_total += labels.size(0)\n",
    "            val_correct += (predicted == labels).sum().item()\n",
    "\n",
    "    val_acc = 100 * val_correct / val_total\n",
    "\n",
    "    print(f\"Epoch [{epoch+1}/{num_epochs}] \"\n",
    "          f\"Train Loss: {running_loss/len(train_loader):.4f} | Train Acc: {train_acc:.2f}% \"\n",
    "          f\"| Val Loss: {val_loss/len(val_loader):.4f} | Val Acc: {val_acc:.2f}%\")\n",
    "\n",
    "#save model\n",
    "os.makedirs(\"SavedModels\", exist_ok=True)\n",
    "torch.save(model.state_dict(), \"SavedModels/mlp_mnist_state_dict.pth\")\n",
    "torch.save(model, \"SavedModels/mlp_mnist_full_model.pth\")\n",
    "print(\"Model saved successfully!\")"
   ]
  },
  {
   "cell_type": "code",
   "execution_count": 29,
   "id": "aa31122a-827c-4bf6-9e92-175e5723bb39",
   "metadata": {},
   "outputs": [
    {
     "name": "stdout",
     "output_type": "stream",
     "text": [
      "Final Test Accuracy on MNIST: 96.88%\n"
     ]
    }
   ],
   "source": [
    "## test accuracy (prove) on MNIST DATA\n",
    "model.eval()\n",
    "correct = 0\n",
    "total = 0\n",
    "with torch.no_grad():\n",
    "    for images, labels in test_loader:\n",
    "        images, labels = images.to(device), labels.to(device)\n",
    "        outputs = model(images)\n",
    "        _, predicted = outputs.max(1)\n",
    "        total += labels.size(0)\n",
    "        correct += (predicted == labels).sum().item()\n",
    "\n",
    "print(f\"Final Test Accuracy on MNIST: {100 * correct / total:.2f}%\")"
   ]
  },
  {
   "cell_type": "markdown",
   "id": "4a837699-6b01-43cf-8b0e-50ab9a0bfee3",
   "metadata": {},
   "source": [
    "# Test Trained MLP on Handwritten Dataset "
   ]
  },
  {
   "cell_type": "code",
   "execution_count": 30,
   "id": "be969a5f-db96-4a20-b3de-d9557db64710",
   "metadata": {},
   "outputs": [],
   "source": [
    "# Load your handwritten test data\n",
    "images_tensor = torch.load(\"SavedData/images_tensor.pt\")\n",
    "labels_tensor = torch.load(\"SavedData/labels_tensor.pt\")\n",
    "\n",
    "# Make sure to move tensors to same device as model\n",
    "images_tensor = images_tensor.to(device)\n",
    "labels_tensor = labels_tensor.to(device)\n"
   ]
  },
  {
   "cell_type": "code",
   "execution_count": 31,
   "id": "68d27951-4995-4233-a5c0-2aeb9df8e4d5",
   "metadata": {},
   "outputs": [
    {
     "name": "stdout",
     "output_type": "stream",
     "text": [
      "Accuracy on Handwritten Digits: 32.42%\n"
     ]
    }
   ],
   "source": [
    "model.eval()\n",
    "correct = 0\n",
    "total = labels_tensor.size(0)\n",
    "\n",
    "with torch.no_grad():\n",
    "    outputs = model(images_tensor)\n",
    "    _, predicted = torch.max(outputs, 1)\n",
    "    correct = (predicted == labels_tensor).sum().item()\n",
    "\n",
    "accuracy = 100 * correct / total\n",
    "print(f\"Accuracy on Handwritten Digits: {accuracy:.2f}%\")"
   ]
  },
  {
   "cell_type": "code",
   "execution_count": 32,
   "id": "5796c5a0-0820-425b-bec7-15e8eea6bddf",
   "metadata": {},
   "outputs": [
    {
     "data": {
      "image/png": "[encoded data removed]",
      "text/plain": [
       "<Figure size 2000x200 with 10 Axes>"
      ]
     },
     "metadata": {},
     "output_type": "display_data"
    }
   ],
   "source": [
    "## plot the resulting handwritten data on the saved mode;l\n",
    "import matplotlib.pyplot as plt\n",
    "\n",
    "def show_predictions(images, labels, preds, n=10):\n",
    "    plt.figure(figsize=(n*2, 2))\n",
    "    for i in range(n):\n",
    "        img = images[i].cpu().squeeze().numpy()\n",
    "        true = labels[i].item()\n",
    "        pred = preds[i].item()\n",
    "        plt.subplot(1, n, i+1)\n",
    "        plt.imshow(img, cmap=\"gray\")\n",
    "        plt.title(f\"T:{true} P:{pred}\")\n",
    "        plt.axis(\"off\")\n",
    "    plt.tight_layout()\n",
    "    plt.show()\n",
    "\n",
    "# Show predictions\n",
    "show_predictions(images_tensor, labels_tensor, predicted, n=10)"
   ]
  },
  {
   "cell_type": "code",
   "execution_count": null,
   "id": "be5cf4d1-710f-44e7-9957-7dffa7c417a4",
   "metadata": {},
   "outputs": [],
   "source": []
  },
  {
   "cell_type": "markdown",
   "id": "45a6172c-9761-4fca-9d06-ea7c67984f48",
   "metadata": {},
   "source": [
    "### Augmenting Handwritten Dataset"
   ]
  },
  {
   "cell_type": "code",
   "execution_count": 33,
   "id": "5c6a244e-3bc5-48cb-b183-0755a85bf044",
   "metadata": {},
   "outputs": [],
   "source": [
    "images_tensor = torch.load(\"SavedData/images_tensor.pt\")\n",
    "labels_tensor = torch.load(\"SavedData/labels_tensor.pt\")"
   ]
  },
  {
   "cell_type": "markdown",
   "id": "1289a39b-1bc2-4ab9-8f64-85a9178a536f",
   "metadata": {},
   "source": [
    "Reference links: \n",
    "- https://pytorch.org/vision/main/generated/torchvision.transforms.RandomAffine.html"
   ]
  },
  {
   "cell_type": "code",
   "execution_count": 40,
   "id": "7a638ece-82f6-46f5-b5ff-e480ac102889",
   "metadata": {},
   "outputs": [],
   "source": [
    "handwritten_transform = transforms.RandomAffine(\n",
    "    degrees=15,             #  rotation\n",
    "    translate=(0.1, 0.1),   #  shift\n",
    "    scale=(0.9, 1.1)        # zoom in/out\n",
    ")\n",
    "\n",
    "class AugmentedHandwrittenDataset(Dataset):\n",
    "    def __init__(self, images_tensor, labels_tensor, transform=None):\n",
    "        self.images = images_tensor  \n",
    "        self.labels = labels_tensor\n",
    "        self.transform = transform\n",
    "\n",
    "    def __len__(self):\n",
    "        return len(self.labels)\n",
    "\n",
    "    def __getitem__(self, idx):\n",
    "        image = self.images[idx]\n",
    "        label = self.labels[idx]\n",
    "        if self.transform:\n",
    "            image = self.transform(image)\n",
    "        return image, label\n",
    "\n",
    "augmented_dataset = AugmentedHandwrittenDataset(\n",
    "    images_tensor, labels_tensor, transform=handwritten_transform)\n",
    "augmented_loader = DataLoader(augmented_dataset, batch_size=64, shuffle=False)"
   ]
  },
  {
   "cell_type": "code",
   "execution_count": 41,
   "id": "65dc6fd4-9658-49af-aa1f-e3e282883070",
   "metadata": {},
   "outputs": [
    {
     "name": "stdout",
     "output_type": "stream",
     "text": [
      "Accuracy on AUGMENTED Handwritten Digits: 23.33%\n"
     ]
    }
   ],
   "source": [
    "model.eval()\n",
    "correct = 0\n",
    "total = 0\n",
    "\n",
    "with torch.no_grad():\n",
    "    for images, labels in augmented_loader:\n",
    "        images, labels = images.to(device), labels.to(device)\n",
    "        outputs = model(images)\n",
    "        _, predicted = outputs.max(1)\n",
    "        total += labels.size(0)\n",
    "        correct += (predicted == labels).sum().item()\n",
    "\n",
    "accuracy = 100 * correct / total\n",
    "print(f\"Accuracy on AUGMENTED Handwritten Digits: {accuracy:.2f}%\")"
   ]
  },
  {
   "cell_type": "code",
   "execution_count": 42,
   "id": "5b81b199-8fb9-4f0e-916e-5654545b4c3e",
   "metadata": {},
   "outputs": [
    {
     "data": {
      "image/png": "[encoded data removed]",
      "text/plain": [
       "<Figure size 2000x200 with 10 Axes>"
      ]
     },
     "metadata": {},
     "output_type": "display_data"
    }
   ],
   "source": [
    "images, labels = next(iter(augmented_loader))\n",
    "outputs = model(images.to(device))\n",
    "_, preds = outputs.max(1)\n",
    "\n",
    "show_predictions(images, labels, preds.cpu(), n=10)"
   ]
  },
  {
   "cell_type": "code",
   "execution_count": null,
   "id": "cd99c8e3-941f-41f4-bf18-c8d9a12e53b0",
   "metadata": {},
   "outputs": [],
   "source": []
  },
  {
   "cell_type": "markdown",
   "id": "38535a56-cc16-4bd0-a8cb-5d097c0fe3fd",
   "metadata": {},
   "source": [
    "### Augmenting MNIST Dataset to train again"
   ]
  },
  {
   "cell_type": "code",
   "execution_count": 44,
   "id": "d54fcebe-b343-44ac-b862-81676205cccb",
   "metadata": {},
   "outputs": [],
   "source": [
    "augmented_mnist_transform = transforms.Compose([\n",
    "    transforms.RandomAffine(degrees=15, translate=(0.1, 0.1), scale=(0.9, 1.1)),\n",
    "    transforms.ToTensor(),\n",
    "    transforms.Normalize((0.5,), (0.5,))\n",
    "])\n",
    "\n",
    "augmented_mnist_dataset = datasets.MNIST(root=\"./data\", train=True, download=True, transform=augmented_mnist_transform)\n",
    "train_dataset, val_dataset = random_split(augmented_mnist_dataset, [50000, 10000])\n",
    "\n",
    "train_loader = DataLoader(train_dataset, batch_size=64, shuffle=True)\n",
    "val_loader = DataLoader(val_dataset, batch_size=64, shuffle=False)\n"
   ]
  },
  {
   "cell_type": "code",
   "execution_count": 46,
   "id": "bd6198c9-6fd8-4d0a-92b5-73f2f1ea4e67",
   "metadata": {},
   "outputs": [],
   "source": [
    "class MLP(nn.Module):\n",
    "    def __init__(self):\n",
    "        super(MLP, self).__init__()\n",
    "        self.model = nn.Sequential(\n",
    "            nn.Flatten(),\n",
    "            nn.Linear(784, 256),\n",
    "            nn.ReLU(),\n",
    "            nn.Linear(256, 128),\n",
    "            nn.ReLU(),\n",
    "            nn.Linear(128, 10)\n",
    "        )\n",
    "\n",
    "    def forward(self, x):\n",
    "        return self.model(x)\n",
    "\n",
    "model = MLP()\n",
    "device = torch.device(\"cuda\" if torch.cuda.is_available() else \"cpu\")\n",
    "model.to(device) \n",
    "criterion = nn.CrossEntropyLoss()\n",
    "optimizer = optim.Adam(model.parameters(), lr=0.001)"
   ]
  },
  {
   "cell_type": "code",
   "execution_count": 47,
   "id": "eba0dea4-3975-44cd-82b5-843909c4fcb6",
   "metadata": {},
   "outputs": [
    {
     "name": "stdout",
     "output_type": "stream",
     "text": [
      "Epoch 1/10, Train Acc: 73.09%, Val Acc: 84.65%\n",
      "Epoch 2/10, Train Acc: 88.93%, Val Acc: 87.83%\n",
      "Epoch 3/10, Train Acc: 90.88%, Val Acc: 92.00%\n",
      "Epoch 4/10, Train Acc: 92.22%, Val Acc: 90.48%\n",
      "Epoch 5/10, Train Acc: 93.04%, Val Acc: 94.07%\n",
      "Epoch 6/10, Train Acc: 93.50%, Val Acc: 93.94%\n",
      "Epoch 7/10, Train Acc: 93.88%, Val Acc: 92.77%\n",
      "Epoch 8/10, Train Acc: 94.26%, Val Acc: 92.89%\n",
      "Epoch 9/10, Train Acc: 94.39%, Val Acc: 94.59%\n",
      "Epoch 10/10, Train Acc: 94.68%, Val Acc: 94.44%\n",
      "Model saved successfully!\n"
     ]
    }
   ],
   "source": [
    "num_epochs = 10\n",
    "\n",
    "for epoch in range(num_epochs):\n",
    "    model.train()\n",
    "    train_loss, correct, total = 0, 0, 0\n",
    "\n",
    "    for images, labels in train_loader:\n",
    "        images, labels = images.to(device), labels.to(device)\n",
    "        optimizer.zero_grad()\n",
    "        outputs = model(images)\n",
    "        loss = criterion(outputs, labels)\n",
    "        loss.backward()\n",
    "        optimizer.step()\n",
    "\n",
    "        train_loss += loss.item()\n",
    "        _, predicted = outputs.max(1)\n",
    "        total += labels.size(0)\n",
    "        correct += (predicted == labels).sum().item()\n",
    "\n",
    "    train_acc = 100 * correct / total\n",
    "\n",
    "    # Validation\n",
    "    model.eval()\n",
    "    val_loss, val_correct, val_total = 0, 0, 0\n",
    "    with torch.no_grad():\n",
    "        for images, labels in val_loader:\n",
    "            images, labels = images.to(device), labels.to(device)\n",
    "            outputs = model(images)\n",
    "            loss = criterion(outputs, labels)\n",
    "\n",
    "            val_loss += loss.item()\n",
    "            _, predicted = outputs.max(1)\n",
    "            val_total += labels.size(0)\n",
    "            val_correct += (predicted == labels).sum().item()\n",
    "\n",
    "    val_acc = 100 * val_correct / val_total\n",
    "    print(f\"Epoch {epoch+1}/{num_epochs}, Train Acc: {train_acc:.2f}%, Val Acc: {val_acc:.2f}%\")\n",
    "\n",
    "#save model\n",
    "os.makedirs(\"SavedModels\", exist_ok=True)\n",
    "torch.save(model.state_dict(), \"SavedModels/mlp_mnist_augmented_state_dict.pth\")\n",
    "torch.save(model, \"SavedModels/mlp_mnist_augmented_full_model.pth\")\n",
    "print(\"Model saved successfully!\")"
   ]
  },
  {
   "cell_type": "code",
   "execution_count": 61,
   "id": "116e43b1-f965-4454-90ac-dfe38e5b734a",
   "metadata": {},
   "outputs": [
    {
     "data": {
      "text/plain": [
       "['mlp_mnist_augmented_state_dict.pth',\n",
       " 'mlp_mnist_full_model.pth',\n",
       " 'mlp_mnist_augmented_full_model.pth',\n",
       " 'mlp_mnist_state_dict.pth']"
      ]
     },
     "execution_count": 61,
     "metadata": {},
     "output_type": "execute_result"
    }
   ],
   "source": [
    "import os\n",
    "os.listdir(\"SavedModels\")"
   ]
  },
  {
   "cell_type": "code",
   "execution_count": null,
   "id": "f980a072-a327-4409-b409-278d4f021a5c",
   "metadata": {},
   "outputs": [],
   "source": [
    "## eval on handwritten"
   ]
  },
  {
   "cell_type": "code",
   "execution_count": 50,
   "id": "fcac7229-4e89-4cfc-8275-5650ce2fae04",
   "metadata": {},
   "outputs": [
    {
     "name": "stdout",
     "output_type": "stream",
     "text": [
      "Accuracy on Handwritten Digits (after training on Augmented MNIST): 49.70%\n"
     ]
    }
   ],
   "source": [
    "images_tensor = torch.load(\"SavedData/images_tensor.pt\")\n",
    "labels_tensor = torch.load(\"SavedData/labels_tensor.pt\")\n",
    "\n",
    "test_loader = DataLoader(TensorDataset(images_tensor, labels_tensor), batch_size=64, shuffle=False)\n",
    "\n",
    "# Evaluate\n",
    "model.eval()\n",
    "correct = 0\n",
    "total = 0\n",
    "with torch.no_grad():\n",
    "    for images, labels in test_loader:\n",
    "        images, labels = images.to(device), labels.to(device)\n",
    "        outputs = model(images)\n",
    "        _, predicted = outputs.max(1)\n",
    "        total += labels.size(0)\n",
    "        correct += (predicted == labels).sum().item()\n",
    "\n",
    "accuracy = 100 * correct / total\n",
    "print(f\"Accuracy on Handwritten Digits (after training on Augmented MNIST): {accuracy:.2f}%\")"
   ]
  },
  {
   "cell_type": "code",
   "execution_count": 59,
   "id": "a03d4a8b-f7c0-4e71-8317-ede02ccd0f34",
   "metadata": {},
   "outputs": [
    {
     "data": {
      "image/png": "[encoded data removed]",
      "text/plain": [
       "<Figure size 1000x800 with 20 Axes>"
      ]
     },
     "metadata": {},
     "output_type": "display_data"
    }
   ],
   "source": [
    "def show_predictions(images, labels, preds, n=20, per_row=5):\n",
    "    rows = math.ceil(n / per_row)\n",
    "    plt.figure(figsize=(per_row * 2, rows * 2))\n",
    "\n",
    "    for i in range(n):\n",
    "        img = images[i].cpu().squeeze().numpy()\n",
    "        true = labels[i].item()\n",
    "        pred = preds[i].item()\n",
    "\n",
    "        plt.subplot(rows, per_row, i + 1)\n",
    "        plt.imshow(img, cmap=\"gray\")\n",
    "        plt.title(f\"T:{true} P:{pred}\")\n",
    "        plt.axis(\"off\")\n",
    "\n",
    "    plt.tight_layout()\n",
    "    plt.show() \n",
    "\n",
    "images, labels = next(iter(test_loader))\n",
    "images, labels = images.to(device), labels.to(device)\n",
    "\n",
    "outputs = model(images)\n",
    "_, preds = outputs.max(1)\n",
    "\n",
    "show_predictions(images, labels, preds, n=20, per_row=5)"
   ]
  },
  {
   "cell_type": "code",
   "execution_count": null,
   "id": "c841c4f5-d097-4ce5-b56b-f9af56ed7635",
   "metadata": {},
   "outputs": [],
   "source": []
  },
  {
   "cell_type": "code",
   "execution_count": null,
   "id": "0d2a24cb-be38-4804-86e5-5b10462b9442",
   "metadata": {},
   "outputs": [],
   "source": []
  },
  {
   "cell_type": "code",
   "execution_count": null,
   "id": "7feba310-57f2-4040-8cd8-4bb4458c6b5d",
   "metadata": {},
   "outputs": [],
   "source": []
  },
  {
   "cell_type": "code",
   "execution_count": null,
   "id": "151e2d8d-b16f-41eb-a881-d5c098795990",
   "metadata": {},
   "outputs": [],
   "source": []
  },
  {
   "cell_type": "code",
   "execution_count": null,
   "id": "77038cb0-93bf-41f9-9017-82142f490f81",
   "metadata": {},
   "outputs": [],
   "source": []
  },
  {
   "cell_type": "code",
   "execution_count": null,
   "id": "ba22f78a-2ac0-4c9a-b615-dc93ca2b1384",
   "metadata": {},
   "outputs": [],
   "source": []
  },
  {
   "cell_type": "code",
   "execution_count": null,
   "id": "3ffebe19-cd99-454d-92ab-689259c1366f",
   "metadata": {},
   "outputs": [],
   "source": []
  },
  {
   "cell_type": "code",
   "execution_count": null,
   "id": "51e89b83-46a7-4a4e-a4d1-629f36069977",
   "metadata": {},
   "outputs": [],
   "source": []
  },
  {
   "cell_type": "code",
   "execution_count": null,
   "id": "db54b448-1b0b-45a1-9312-2472aafd1ef6",
   "metadata": {},
   "outputs": [],
   "source": []
  },
  {
   "cell_type": "code",
   "execution_count": null,
   "id": "a8ee63bb-29b9-410a-93c1-702cb4c652e8",
   "metadata": {},
   "outputs": [],
   "source": []
  },
  {
   "cell_type": "code",
   "execution_count": null,
   "id": "a1a9dc2e-b26e-4378-912e-41841065187f",
   "metadata": {},
   "outputs": [],
   "source": []
  },
  {
   "cell_type": "code",
   "execution_count": null,
   "id": "a0af1676-e6ea-4ba8-84d4-b02ff3d0e714",
   "metadata": {},
   "outputs": [],
   "source": []
  },
  {
   "cell_type": "code",
   "execution_count": null,
   "id": "be72a7ce-d46c-400d-8de8-b9ee5190d27c",
   "metadata": {},
   "outputs": [],
   "source": []
  },
  {
   "cell_type": "code",
   "execution_count": null,
   "id": "3261e888-f979-4a1e-85a8-35041fe60a4b",
   "metadata": {},
   "outputs": [],
   "source": [
    "####   -----------------------------------------PRADANYA'S WORK------------------------------------------------------- ##"
   ]
  },
  {
   "cell_type": "markdown",
   "id": "055a0b34-1e22-4cd7-8804-aed1c9592809",
   "metadata": {},
   "source": [
    "# 2. Data Preparation\n",
    "## 2.1 Define Image Transformations\n",
    "We apply two transformations:\n",
    "\n",
    "- ToTensor() to convert PIL images to Tensors in the [0, 1] range.\n",
    "- Normalize((0.5,), (0.5,)) to shift the range to [-1, 1] for better neural network performance."
   ]
  },
  {
   "cell_type": "code",
   "execution_count": 59,
   "id": "9a0e7c5f-b935-47d7-9a93-617dab2243b5",
   "metadata": {},
   "outputs": [],
   "source": [
    "transform = transforms.Compose([\n",
    "    # converts image to Tensor (0-1 range)\n",
    "    transforms.ToTensor(),  \n",
    "    # normalize to [-1,1]\n",
    "    transforms.Normalize((0.5,), (0.5,))  \n",
    "])"
   ]
  },
  {
   "cell_type": "code",
   "execution_count": 64,
   "id": "c95a1aa3",
   "metadata": {},
   "outputs": [],
   "source": [
    "trainset = torchvision.datasets.MNIST(root='./data', download=True, train=True, transform=transform)\n",
    "trainloader = torch.utils.data.DataLoader(trainset, batch_size=64, shuffle=True)\n",
    "\n",
    "testset = torchvision.datasets.MNIST(root='./data', download=True, train=False, transform=transform)\n",
    "testloader = torch.utils.data.DataLoader(testset, batch_size=64, shuffle=False)"
   ]
  },
  {
   "cell_type": "markdown",
   "id": "3dfe5c49",
   "metadata": {},
   "source": [
    "## 2.3 Define Class Labels\n",
    "\n",
    "We create a tuple `classes` containing string labels from 0 to 9, \n",
    "to map numeric labels to human-readable digits for visualization."
   ]
  },
  {
   "cell_type": "code",
   "execution_count": 65,
   "id": "3bdfa696",
   "metadata": {},
   "outputs": [
    {
     "data": {
      "image/png": "[encoded data removed]",
      "text/plain": [
       "<Figure size 640x480 with 1 Axes>"
      ]
     },
     "metadata": {},
     "output_type": "display_data"
    },
    {
     "name": "stdout",
     "output_type": "stream",
     "text": [
      "5 0 1 7 9 0\n"
     ]
    }
   ],
   "source": [
    "# Define classes (digit names)\n",
    "classes = tuple(str(i) for i in range(10))\n",
    "\n",
    "# Function to show our images\n",
    "def imshow(img):\n",
    "    img = img / 2 + 0.5  \n",
    "    npimg = img.numpy()\n",
    "    plt.imshow(np.transpose(npimg, (1, 2, 0)))\n",
    "    plt.axis('off')\n",
    "    plt.show()\n",
    "\n",
    "\n",
    "dataiter = iter(trainloader)\n",
    "images, labels = next(dataiter)\n",
    "\n",
    "imshow(torchvision.utils.make_grid(images[:6]))\n",
    "\n",
    "print(' '.join(f'{classes[labels[j]]}' for j in range(6)))\n"
   ]
  },
  {
   "cell_type": "code",
   "execution_count": 66,
   "id": "b3b39cca",
   "metadata": {},
   "outputs": [],
   "source": [
    "class MLP(nn.Module):\n",
    "    def __init__(self):\n",
    "        super(MLP, self).__init__()\n",
    "        # First hidden layer\n",
    "        self.fc1 = nn.Linear(28*28, 256)  \n",
    "        # Second hidden layer\n",
    "        self.fc2 = nn.Linear(256, 128)    \n",
    "        # Output layer \n",
    "        self.fc3 = nn.Linear(128, 10)     \n",
    "\n",
    "    def forward(self, x):\n",
    "        x = x.view(-1, 28*28)  \n",
    "        x = torch.relu(self.fc1(x))  \n",
    "        x = torch.relu(self.fc2(x))  \n",
    "        x = self.fc3(x)              \n",
    "        return x"
   ]
  },
  {
   "cell_type": "code",
   "execution_count": null,
   "id": "71aad518",
   "metadata": {},
   "outputs": [
    {
     "name": "stdout",
     "output_type": "stream",
     "text": [
      "Epoch [1/10] Loss: 0.3345\n",
      "Epoch [2/10] Loss: 0.1555\n",
      "Epoch [3/10] Loss: 0.1123\n",
      "Epoch [4/10] Loss: 0.0922\n",
      "Epoch [5/10] Loss: 0.0724\n",
      "Epoch [6/10] Loss: 0.0678\n",
      "Epoch [7/10] Loss: 0.0603\n",
      "Epoch [8/10] Loss: 0.0523\n",
      "Epoch [9/10] Loss: 0.0483\n",
      "Epoch [10/10] Loss: 0.0434\n"
     ]
    }
   ],
   "source": [
    "# Define loss function and optimizer\n",
    "model = MLP()\n",
    "\n",
    "criterion = nn.CrossEntropyLoss()\n",
    "optimizer = optim.Adam(model.parameters(), lr=0.001)\n",
    "\n",
    "# Training loop\n",
    "epochs = 10  \n",
    "\n",
    "for epoch in range(epochs):\n",
    "    running_loss = 0.0\n",
    "    model.train()\n",
    "\n",
    "    for images, labels in trainloader:\n",
    "        optimizer.zero_grad()\n",
    "        outputs = model(images)\n",
    "        loss = criterion(outputs, labels)\n",
    "        loss.backward()\n",
    "        optimizer.step()\n",
    "\n",
    "        running_loss += loss.item()\n",
    "\n",
    "    print(f\"Epoch [{epoch+1}/{epochs}] Loss: {running_loss/len(trainloader):.4f}\")\n"
   ]
  },
  {
   "cell_type": "code",
   "execution_count": 68,
   "id": "54a7e088",
   "metadata": {},
   "outputs": [
    {
     "name": "stdout",
     "output_type": "stream",
     "text": [
      "Accuracy on MNIST test images: 97.58%\n"
     ]
    }
   ],
   "source": [
    "# Evaluation\n",
    "model.eval()\n",
    "correct = 0\n",
    "total = 0\n",
    "\n",
    "with torch.no_grad():\n",
    "    for images, labels in testloader:\n",
    "        outputs = model(images)\n",
    "        _, predicted = torch.max(outputs.data, 1)\n",
    "        total += labels.size(0)\n",
    "        correct += (predicted == labels).sum().item()\n",
    "\n",
    "print(f'Accuracy on MNIST test images: {100 * correct / total:.2f}%')\n"
   ]
  },
  {
   "cell_type": "code",
   "execution_count": null,
   "id": "527f9658",
   "metadata": {},
   "outputs": [
    {
     "name": "stdout",
     "output_type": "stream",
     "text": [
      "Predictions: [0 0 0 0 3 5 5 0 0 2 0 0 5 5 5 5 7 4 7 9 5 7 7 7 5 7 1 7 5 5 9 0 0 1 6 1 1\n",
      " 1 5 5 9 1 2 2 2 5 5 7 5 1 7 2 4 5 7 7 7 5 5 1 5 5 5 5 0 1 8 2 2 2 2 5 2 5\n",
      " 2 7 2 0 5 5 5 5 4 2 5 2 5 7 5 5 5 5 5 5 5 2 5 2 2 3 5 3 3 3 5 9 9 3 9 3 2\n",
      " 5 5 5 7 2 2 5 9 5 7 7 7 5 5 5 5 5 2 5 2 3 7 4 4 4 4 5 4 8 4 4 4 4 5 7 5 7\n",
      " 5 7 5 9 5 7 7 7 5 5 7 4 5 5 5 4 4 5 5 6 5 5 5 5 5 5 5 5 5 5 5 7 5 9 2 0 5\n",
      " 5 7 7 7 5 5 7 5 5 5 9 5 5 5 6 6 6 8 5 2 7 5 5 6 8 5 5 5 5 5 5 7 5 7 7 5 7\n",
      " 6 5 5 6 6 2 2 5 2 7 2 7 2 1 7 5 5 7 7 7 7 7 7 7 7 9 2 2 9 5 7 7 7 7 5 7 7\n",
      " 7 5 9 7 7 2 8 8 8 8 5 5 5 3 8 8 8 9 5 9 7 9 2 5 3 5 7 5 5 2 5 5 2 2 9 5 8\n",
      " 8 9 9 9 2 2 5 1 8 9 9 9 5 7 5 9 7 3 9 7 1 7 7 7 7 5 5 1 7 5 9 9 9 7]\n",
      "Ground Truth: [0 0 0 0 0 0 0 0 0 0 0 0 0 0 0 0 0 0 0 0 0 0 0 0 0 0 0 0 0 0 0 0 0 1 1 1 1\n",
      " 1 1 1 1 1 1 1 1 1 1 1 1 1 1 1 1 1 1 1 1 1 1 1 1 1 1 1 1 1 2 2 2 2 2 2 2 2\n",
      " 2 2 2 2 2 2 2 2 2 2 2 2 2 2 2 2 2 2 2 2 2 2 2 2 2 3 3 3 3 3 3 3 3 3 3 3 3\n",
      " 3 3 3 3 3 3 3 3 3 3 3 3 3 3 3 3 3 3 3 3 3 4 4 4 4 4 4 4 4 4 4 4 4 4 4 4 4\n",
      " 4 4 4 4 4 4 4 4 4 4 4 4 4 4 4 4 4 5 5 5 5 5 5 5 5 5 5 5 5 5 5 5 5 5 5 5 5\n",
      " 5 5 5 5 5 5 5 5 5 5 5 5 5 6 6 6 6 6 6 6 6 6 6 6 6 6 6 6 6 6 6 6 6 6 6 6 6\n",
      " 6 6 6 6 6 6 6 6 6 7 7 7 7 7 7 7 7 7 7 7 7 7 7 7 7 7 7 7 7 7 7 7 7 7 7 7 7\n",
      " 7 7 7 7 7 8 8 8 8 8 8 8 8 8 8 8 8 8 8 8 8 8 8 8 8 8 8 8 8 8 8 8 8 8 8 8 8\n",
      " 8 9 9 9 9 9 9 9 9 9 9 9 9 9 9 9 9 9 9 9 9 9 9 9 9 9 9 9 9 9 9 9 9 9]\n",
      "Accuracy on Group Digits: 36.06%\n"
     ]
    }
   ],
   "source": [
    "\n",
    "device = torch.device(\"cuda\" if torch.cuda.is_available() else \"cpu\")\n",
    "\n",
    "# Move tensors to the device\n",
    "images_tensor = images_tensor.to(device)\n",
    "labels_tensor = labels_tensor.to(device)\n",
    "\n",
    "images_tensor = images_tensor.to(device)\n",
    "labels_tensor = labels_tensor.to(device)\n",
    "\n",
    "model.eval()\n",
    "\n",
    "# Disable gradient calculation for efficiency\n",
    "with torch.no_grad():\n",
    "    outputs = model(images_tensor)              \n",
    "    _, predicted = torch.max(outputs, 1)        \n",
    "    correct = (predicted == labels_tensor).sum().item()\n",
    "    total = labels_tensor.size(0)\n",
    "    accuracy = 100 * correct / total\n",
    "\n",
    "print(\"Predictions:\", predicted.cpu().numpy())\n",
    "print(\"Ground Truth:\", labels_tensor.cpu().numpy())\n",
    "print(f\"Accuracy on Group Digits: {accuracy:.2f}%\")\n"
   ]
  },
  {
   "cell_type": "code",
   "execution_count": null,
   "id": "8f6567a5",
   "metadata": {},
   "outputs": [
    {
     "data": {
      "image/png": "[encoded data removed]",
      "text/plain": [
       "<Figure size 1500x300 with 10 Axes>"
      ]
     },
     "metadata": {},
     "output_type": "display_data"
    }
   ],
   "source": [
    "import matplotlib.pyplot as plt\n",
    "\n",
    "model.eval()\n",
    "with torch.no_grad():\n",
    "    outputs = model(images_tensor)\n",
    "    _, predicted = torch.max(outputs, 1)\n",
    "\n",
    "images_cpu = images_tensor.cpu()\n",
    "predicted_cpu = predicted.cpu()\n",
    "labels_cpu = labels_tensor.cpu()\n",
    "\n",
    "N = min(10, len(images_cpu))  \n",
    "plt.figure(figsize=(15, 3))\n",
    "\n",
    "for i in range(N):\n",
    "    plt.subplot(1, N, i + 1)\n",
    "    plt.imshow(images_cpu[i].squeeze(), cmap='gray')\n",
    "    plt.title(f\"P: {predicted_cpu[i].item()}\\nT: {labels_cpu[i].item()}\")\n",
    "    plt.axis('off')\n",
    "\n",
    "plt.tight_layout()\n",
    "plt.show()\n"
   ]
  },
  {
   "cell_type": "code",
   "execution_count": 71,
   "id": "edf2f0e9",
   "metadata": {},
   "outputs": [
    {
     "data": {
      "image/png": "[encoded data removed]",
      "text/plain": [
       "<Figure size 1500x300 with 10 Axes>"
      ]
     },
     "metadata": {},
     "output_type": "display_data"
    }
   ],
   "source": [
    "# Find indices of misclassified images\n",
    "misclassified_indices = (predicted_cpu != labels_cpu).nonzero().flatten()\n",
    "\n",
    "# Show up to 10 misclassified images\n",
    "N = min(10, len(misclassified_indices))\n",
    "plt.figure(figsize=(15, 3))\n",
    "\n",
    "for i in range(N):\n",
    "    idx = misclassified_indices[i]\n",
    "    plt.subplot(1, N, i + 1)\n",
    "    plt.imshow(images_cpu[idx].squeeze(), cmap='gray')\n",
    "    plt.title(f\"P: {predicted_cpu[idx].item()}\\nT: {labels_cpu[idx].item()}\")\n",
    "    plt.axis('off')\n",
    "\n",
    "plt.tight_layout()\n",
    "plt.show()\n"
   ]
  },
  {
   "cell_type": "markdown",
   "id": "7a9b0590",
   "metadata": {},
   "source": [
    "## Hyperparameter Tuning"
   ]
  },
  {
   "cell_type": "code",
   "execution_count": 75,
   "id": "fbfa04d8",
   "metadata": {},
   "outputs": [],
   "source": [
    "from torchvision import datasets\n",
    "from torch.utils.data import DataLoader\n",
    "\n",
    "transform = transforms.Compose([\n",
    "    transforms.ToTensor(),\n",
    "    transforms.Normalize((0.5,), (0.5,))\n",
    "])\n",
    "\n",
    "train_set = datasets.MNIST(root='./data', train=True, download=True, transform=transform)\n",
    "test_set = datasets.MNIST(root='./data', train=False, download=True, transform=transform)\n",
    "\n",
    "train_loader = DataLoader(train_set, batch_size=64, shuffle=True)\n",
    "test_loader = DataLoader(test_set, batch_size=64, shuffle=False)\n"
   ]
  },
  {
   "cell_type": "code",
   "execution_count": 76,
   "id": "cc64055f",
   "metadata": {},
   "outputs": [],
   "source": [
    "def train_and_evaluate(hidden_sizes, lr, optimizer_name, num_epochs=10):\n",
    "    # Define model architecture dynamically\n",
    "    layers = [nn.Flatten()]\n",
    "    input_size = 28 * 28\n",
    "    for h in hidden_sizes:\n",
    "        layers.append(nn.Linear(input_size, h))\n",
    "        layers.append(nn.ReLU())\n",
    "        input_size = h\n",
    "    layers.append(nn.Linear(input_size, 10))\n",
    "    model = nn.Sequential(*layers).to(device)\n",
    "\n",
    "    # Loss and optimizer\n",
    "    criterion = nn.CrossEntropyLoss()\n",
    "    if optimizer_name == 'SGD':\n",
    "        optimizer = optim.SGD(model.parameters(), lr=lr, momentum=0.9)\n",
    "    elif optimizer_name == 'Adam':\n",
    "        optimizer = optim.Adam(model.parameters(), lr=lr)\n",
    "    else:\n",
    "        raise ValueError(\"Unsupported optimizer\")\n",
    "\n",
    "    # Training loop\n",
    "    for epoch in range(num_epochs):\n",
    "        model.train()\n",
    "        for inputs, labels in train_loader:\n",
    "            inputs, labels = inputs.to(device), labels.to(device)\n",
    "            optimizer.zero_grad()\n",
    "            outputs = model(inputs)\n",
    "            loss = criterion(outputs, labels)\n",
    "            loss.backward()\n",
    "            optimizer.step()\n",
    "\n",
    "    # Evaluate on MNIST test\n",
    "    model.eval()\n",
    "    correct_mnist, total_mnist = 0, 0\n",
    "    with torch.no_grad():\n",
    "        for inputs, labels in test_loader:\n",
    "            inputs, labels = inputs.to(device), labels.to(device)\n",
    "            outputs = model(inputs)\n",
    "            _, predicted = torch.max(outputs, 1)\n",
    "            total_mnist += labels.size(0)\n",
    "            correct_mnist += (predicted == labels).sum().item()\n",
    "    mnist_acc = 100 * correct_mnist / total_mnist\n",
    "\n",
    "    # Evaluate on team digits\n",
    "    with torch.no_grad():\n",
    "        outputs = model(images_tensor)\n",
    "        _, predicted = torch.max(outputs, 1)\n",
    "        correct_group = (predicted == labels_tensor).sum().item()\n",
    "        group_acc = 100 * correct_group / labels_tensor.size(0)\n",
    "\n",
    "    return mnist_acc, group_acc\n"
   ]
  },
  {
   "cell_type": "code",
   "execution_count": 77,
   "id": "74e06737",
   "metadata": {},
   "outputs": [
    {
     "name": "stdout",
     "output_type": "stream",
     "text": [
      "Running config 1: {'hidden_sizes': [256, 128], 'lr': 0.01, 'opt': 'SGD'}\n",
      "MNIST Acc: 97.53% | Group Acc: 34.55%\n",
      "\n",
      "Running config 2: {'hidden_sizes': [512, 256], 'lr': 0.001, 'opt': 'Adam'}\n",
      "MNIST Acc: 97.82% | Group Acc: 38.48%\n",
      "\n",
      "Running config 3: {'hidden_sizes': [128], 'lr': 0.01, 'opt': 'SGD'}\n",
      "MNIST Acc: 97.12% | Group Acc: 37.27%\n",
      "\n",
      "Running config 4: {'hidden_sizes': [256], 'lr': 0.001, 'opt': 'Adam'}\n",
      "MNIST Acc: 97.50% | Group Acc: 31.82%\n",
      "\n"
     ]
    }
   ],
   "source": [
    "configs = [\n",
    "    {'hidden_sizes': [256, 128], 'lr': 0.01, 'opt': 'SGD'},\n",
    "    {'hidden_sizes': [512, 256], 'lr': 0.001, 'opt': 'Adam'},\n",
    "    {'hidden_sizes': [128],      'lr': 0.01, 'opt': 'SGD'},\n",
    "    {'hidden_sizes': [256],      'lr': 0.001, 'opt': 'Adam'},\n",
    "]\n",
    "\n",
    "results = []\n",
    "\n",
    "for i, config in enumerate(configs):\n",
    "    print(f\"Running config {i+1}: {config}\")\n",
    "    mnist_acc, group_acc = train_and_evaluate(config['hidden_sizes'], config['lr'], config['opt'])\n",
    "    results.append((config, mnist_acc, group_acc))\n",
    "    print(f\"MNIST Acc: {mnist_acc:.2f}% | Group Acc: {group_acc:.2f}%\\n\")\n"
   ]
  },
  {
   "cell_type": "code",
   "execution_count": 78,
   "id": "5c65e5a0",
   "metadata": {},
   "outputs": [
    {
     "name": "stdout",
     "output_type": "stream",
     "text": [
      "Summary of Hyperparameter Tuning:\n",
      "\n",
      "Config 1: {'hidden_sizes': [256, 128], 'lr': 0.01, 'opt': 'SGD'}\n",
      "  -> MNIST Accuracy: 97.53%\n",
      "  -> Group Accuracy: 34.55%\n",
      "\n",
      "Config 2: {'hidden_sizes': [512, 256], 'lr': 0.001, 'opt': 'Adam'}\n",
      "  -> MNIST Accuracy: 97.82%\n",
      "  -> Group Accuracy: 38.48%\n",
      "\n",
      "Config 3: {'hidden_sizes': [128], 'lr': 0.01, 'opt': 'SGD'}\n",
      "  -> MNIST Accuracy: 97.12%\n",
      "  -> Group Accuracy: 37.27%\n",
      "\n",
      "Config 4: {'hidden_sizes': [256], 'lr': 0.001, 'opt': 'Adam'}\n",
      "  -> MNIST Accuracy: 97.50%\n",
      "  -> Group Accuracy: 31.82%\n",
      "\n"
     ]
    }
   ],
   "source": [
    "print(\"Summary of Hyperparameter Tuning:\\n\")\n",
    "for i, (cfg, mnist_acc, group_acc) in enumerate(results):\n",
    "    print(f\"Config {i+1}: {cfg}\")\n",
    "    print(f\"  -> MNIST Accuracy: {mnist_acc:.2f}%\")\n",
    "    print(f\"  -> Group Accuracy: {group_acc:.2f}%\\n\")\n"
   ]
  }
 ],
 "metadata": {
  "kernelspec": {
   "display_name": "Python 3 (ipykernel)",
   "language": "python",
   "name": "python3"
  },
  "language_info": {
   "codemirror_mode": {
    "name": "ipython",
    "version": 3
   },
   "file_extension": ".py",
   "mimetype": "text/x-python",
   "name": "python",
   "nbconvert_exporter": "python",
   "pygments_lexer": "ipython3",
   "version": "3.9.19"
  }
 },
 "nbformat": 4,
 "nbformat_minor": 5
}
