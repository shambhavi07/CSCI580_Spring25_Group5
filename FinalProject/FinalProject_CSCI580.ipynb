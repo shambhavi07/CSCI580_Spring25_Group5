{
 "cells": [
  {
   "cell_type": "markdown",
   "id": "a2ecf610-5018-447b-a2ef-0bf1cfc7add6",
   "metadata": {},
   "source": [
    "# FINAL PROJECT: MNIST handwritten digit images to train a MLP  \n",
    "### Group 5: Shambhavi Danayak, Kimaya D Sawant, Pradnya R Ghadge, "
   ]
  },
  {
   "cell_type": "markdown",
   "id": "0dff24d8",
   "metadata": {},
   "source": [
    "#  1. Import Libraries\n",
    "\n",
    "We first import all necessary libraries including PyTorch, torchvision for datasets and transforms, and matplotlib/numpy for visualization."
   ]
  },
  {
   "cell_type": "code",
   "execution_count": 53,
   "id": "66f15db4",
   "metadata": {},
   "outputs": [],
   "source": [
    "import torch\n",
    "import torchvision\n",
    "import torchvision.transforms as transforms\n",
    "import torch.nn as nn\n",
    "import torch.optim as optim\n",
    "import matplotlib.pyplot as plt\n",
    "import numpy as np"
   ]
  },
  {
   "cell_type": "markdown",
   "id": "b269c42c-bf78-4204-9faf-bd04647a19e5",
   "metadata": {},
   "source": [
    "## TASK 2: \n",
    "a helper function that can read all image files (following filename convention defined in Task1) into a Numpy array, and assign the corresponding labels in another Numpy array.  \n",
    "- load \".png\" handwritten data\n",
    "- extract label\n",
    "- verify shape\n",
    "- return images and labels"
   ]
  },
  {
   "cell_type": "code",
   "execution_count": 54,
   "id": "1348b70a-4ca8-4efd-818f-7e72d9877f9d",
   "metadata": {},
   "outputs": [],
   "source": [
    "import os\n",
    "from PIL import Image"
   ]
  },
  {
   "cell_type": "code",
   "execution_count": 55,
   "id": "0b73fd7e-a9de-413b-a3e6-3f4ab7df6535",
   "metadata": {},
   "outputs": [],
   "source": [
    "def ProjectDataLoader(folder_path=\"Handwritten-Digits-Sp25/digits\"):\n",
    "    image_list = [] #stores image pixels\n",
    "    label_list = [] #corresponding digit labels\n",
    "\n",
    "    for filename in os.listdir(folder_path):\n",
    "        if filename.endswith(\".png\") and filename[0].isdigit():\n",
    "            try:\n",
    "                label = int(filename.split(\"-\")[0])\n",
    "\n",
    "                img_path = os.path.join(folder_path, filename)\n",
    "                image = Image.open(img_path).convert(\"L\")  # \"L\" = 8-bit pixels, black and white\n",
    "                # Resize \n",
    "                image_array = np.array(image)\n",
    "\n",
    "                if image_array.shape != (28, 28):\n",
    "                    raise ValueError(f\"Image {filename} is not 28x28 pixels\")\n",
    "\n",
    "                image_list.append(image_array)\n",
    "                label_list.append(label)\n",
    "\n",
    "            except Exception as e:\n",
    "                print(f\"Skipping {filename}: {e}\")\n",
    "\n",
    "    images = np.array(image_list, dtype=np.uint8)\n",
    "    labels = np.array(label_list, dtype=np.int64)\n",
    "\n",
    "    print(f\"Loaded {len(images)} images and labels.\")\n",
    "    return images, labels\n"
   ]
  },
  {
   "cell_type": "code",
   "execution_count": 56,
   "id": "d43377f0-5477-440b-8b51-95fa2961437a",
   "metadata": {},
   "outputs": [
    {
     "name": "stdout",
     "output_type": "stream",
     "text": [
      "Loaded 330 images and labels.\n",
      "Shape of image set: (330, 28, 28)\n",
      "Sample label: 0\n"
     ]
    }
   ],
   "source": [
    "images, labels = ProjectDataLoader()\n",
    "print(\"Shape of image set:\", images.shape)\n",
    "print(\"Sample label:\", labels[0])"
   ]
  },
  {
   "cell_type": "markdown",
   "id": "a5d8b3bc-6c4f-4c08-a176-a58082bb793a",
   "metadata": {},
   "source": [
    "## Task 3: Preprocess image data using Pytorch"
   ]
  },
  {
   "cell_type": "code",
   "execution_count": 57,
   "id": "a04ebc54-7065-4fd1-adba-c6ebbe85ea53",
   "metadata": {},
   "outputs": [],
   "source": [
    "def preprocess_images(images_np):\n",
    "    preprocess = transforms.Compose([\n",
    "        transforms.ToTensor(),                         \n",
    "        transforms.Normalize((0.5,), (0.5,))           \n",
    "    ])\n",
    "\n",
    "    processed_images = []\n",
    "    for i in range(images_np.shape[0]):\n",
    "        img_tensor = preprocess(images_np[i])          \n",
    "        processed_images.append(img_tensor)\n",
    "\n",
    "    # Stack into a single tensor: shape → (N, 1, 28, 28)\n",
    "    return torch.stack(processed_images)"
   ]
  },
  {
   "cell_type": "code",
   "execution_count": 58,
   "id": "1e00db94-7331-4b3e-bc70-3f775b41872c",
   "metadata": {},
   "outputs": [],
   "source": [
    "images_tensor = preprocess_images(images)     \n",
    "labels_tensor = torch.from_numpy(labels) "
   ]
  },
  {
   "cell_type": "code",
   "execution_count": 59,
   "id": "0899abf4-734a-4cfe-b8ec-5485e2dde6e3",
   "metadata": {},
   "outputs": [
    {
     "name": "stdout",
     "output_type": "stream",
     "text": [
      "Processed image tensor shape: torch.Size([330, 1, 28, 28])\n",
      "Pixel range: -1.0 to 1.0\n"
     ]
    }
   ],
   "source": [
    "print(\"Processed image tensor shape:\", images_tensor.shape)\n",
    "print(\"Pixel range:\", images_tensor.min().item(), \"to\", images_tensor.max().item())"
   ]
  },
  {
   "cell_type": "code",
   "execution_count": 60,
   "id": "a165ecaf-0101-47ad-b829-53f84069d8cd",
   "metadata": {},
   "outputs": [],
   "source": [
    "os.makedirs(\"SavedData\", exist_ok=True)\n",
    "torch.save(images_tensor, \"SavedData/images_tensor.pt\")\n",
    "torch.save(labels_tensor, \"SavedData/labels_tensor.pt\")"
   ]
  },
  {
   "cell_type": "code",
   "execution_count": 61,
   "id": "e96a2beb-69ca-465c-8276-a3b482b0b1c0",
   "metadata": {},
   "outputs": [],
   "source": [
    "images_tensor = torch.load(\"SavedData/images_tensor.pt\")\n",
    "labels_tensor = torch.load(\"SavedData/labels_tensor.pt\")\n",
    "def show_images(images_tensor, labels_tensor, n=5):\n",
    "    plt.figure(figsize=(n * 2, 2))\n",
    "    for i in range(n):\n",
    "        image = images_tensor[i].squeeze().numpy()   # shape (28, 28)\n",
    "        label = labels_tensor[i].item()\n",
    "\n",
    "        plt.subplot(1, n, i + 1)\n",
    "        plt.imshow(image, cmap=\"gray\")\n",
    "        plt.title(f\"Label: {label}\")\n",
    "        plt.axis(\"off\")\n",
    "    plt.tight_layout()\n",
    "    plt.show()"
   ]
  },
  {
   "cell_type": "code",
   "execution_count": 62,
   "id": "27bcc5f2-36d5-434d-ba38-2e349f4919dd",
   "metadata": {},
   "outputs": [
    {
     "data": {
      "image/png": "[encoded data removed]",
      "text/plain": [
       "<Figure size 2000x200 with 10 Axes>"
      ]
     },
     "metadata": {},
     "output_type": "display_data"
    }
   ],
   "source": [
    "show_images(images_tensor, labels_tensor, n=10)"
   ]
  },
  {
   "cell_type": "markdown",
   "id": "c4496130",
   "metadata": {},
   "source": [
    "# 2. Data Preparation\n",
    "\n",
    "## 2.1 Define Image Transformations\n",
    "\n",
    "We apply two transformations:\n",
    "- `ToTensor()` to convert PIL images to Tensors in the [0, 1] range.\n",
    "- `Normalize((0.5,), (0.5,))` to shift the range to [-1, 1] for better neural network performance.\n"
   ]
  },
  {
   "cell_type": "code",
   "execution_count": 63,
   "id": "b9d2fc01",
   "metadata": {},
   "outputs": [],
   "source": [
    "transform = transforms.Compose([\n",
    "    # converts image to Tensor (0-1 range)\n",
    "    transforms.ToTensor(),  \n",
    "    # normalize to [-1,1]\n",
    "    transforms.Normalize((0.5,), (0.5,))  \n",
    "])"
   ]
  },
  {
   "cell_type": "markdown",
   "id": "5b4edec9",
   "metadata": {},
   "source": [
    "## 2.2 Load MNIST Dataset\n",
    "\n",
    "We now download the MNIST handwritten digits dataset using `torchvision.datasets.MNIST`. \n",
    "- The training set contains 60,000 images.\n",
    "- The test set contains 10,000 images.\n",
    "- Both sets apply the defined transformations.\n",
    "- Batch size is set to 64 for training and testing.\n",
    "\n",
    "The dataset will be automatically downloaded into the `./data` directory."
   ]
  },
  {
   "cell_type": "code",
   "execution_count": 64,
   "id": "c95a1aa3",
   "metadata": {},
   "outputs": [],
   "source": [
    "trainset = torchvision.datasets.MNIST(root='./data', download=True, train=True, transform=transform)\n",
    "trainloader = torch.utils.data.DataLoader(trainset, batch_size=64, shuffle=True)\n",
    "\n",
    "testset = torchvision.datasets.MNIST(root='./data', download=True, train=False, transform=transform)\n",
    "testloader = torch.utils.data.DataLoader(testset, batch_size=64, shuffle=False)"
   ]
  },
  {
   "cell_type": "markdown",
   "id": "3dfe5c49",
   "metadata": {},
   "source": [
    "## 2.3 Define Class Labels\n",
    "\n",
    "We create a tuple `classes` containing string labels from 0 to 9, \n",
    "to map numeric labels to human-readable digits for visualization."
   ]
  },
  {
   "cell_type": "code",
   "execution_count": 65,
   "id": "3bdfa696",
   "metadata": {},
   "outputs": [
    {
     "data": {
      "image/png": "[encoded data removed]",
      "text/plain": [
       "<Figure size 640x480 with 1 Axes>"
      ]
     },
     "metadata": {},
     "output_type": "display_data"
    },
    {
     "name": "stdout",
     "output_type": "stream",
     "text": [
      "5 0 1 7 9 0\n"
     ]
    }
   ],
   "source": [
    "# Define classes (digit names)\n",
    "classes = tuple(str(i) for i in range(10))\n",
    "\n",
    "# Function to show our images\n",
    "def imshow(img):\n",
    "    img = img / 2 + 0.5  \n",
    "    npimg = img.numpy()\n",
    "    plt.imshow(np.transpose(npimg, (1, 2, 0)))\n",
    "    plt.axis('off')\n",
    "    plt.show()\n",
    "\n",
    "\n",
    "dataiter = iter(trainloader)\n",
    "images, labels = next(dataiter)\n",
    "\n",
    "imshow(torchvision.utils.make_grid(images[:6]))\n",
    "\n",
    "print(' '.join(f'{classes[labels[j]]}' for j in range(6)))\n"
   ]
  },
  {
   "cell_type": "code",
   "execution_count": 66,
   "id": "b3b39cca",
   "metadata": {},
   "outputs": [],
   "source": [
    "class MLP(nn.Module):\n",
    "    def __init__(self):\n",
    "        super(MLP, self).__init__()\n",
    "        # First hidden layer\n",
    "        self.fc1 = nn.Linear(28*28, 256)  \n",
    "        # Second hidden layer\n",
    "        self.fc2 = nn.Linear(256, 128)    \n",
    "        # Output layer \n",
    "        self.fc3 = nn.Linear(128, 10)     \n",
    "\n",
    "    def forward(self, x):\n",
    "        x = x.view(-1, 28*28)  \n",
    "        x = torch.relu(self.fc1(x))  \n",
    "        x = torch.relu(self.fc2(x))  \n",
    "        x = self.fc3(x)              \n",
    "        return x"
   ]
  },
  {
   "cell_type": "code",
   "execution_count": null,
   "id": "71aad518",
   "metadata": {},
   "outputs": [
    {
     "name": "stdout",
     "output_type": "stream",
     "text": [
      "Epoch [1/10] Loss: 0.3345\n",
      "Epoch [2/10] Loss: 0.1555\n",
      "Epoch [3/10] Loss: 0.1123\n",
      "Epoch [4/10] Loss: 0.0922\n",
      "Epoch [5/10] Loss: 0.0724\n",
      "Epoch [6/10] Loss: 0.0678\n",
      "Epoch [7/10] Loss: 0.0603\n",
      "Epoch [8/10] Loss: 0.0523\n",
      "Epoch [9/10] Loss: 0.0483\n",
      "Epoch [10/10] Loss: 0.0434\n"
     ]
    }
   ],
   "source": [
    "# Define loss function and optimizer\n",
    "model = MLP()\n",
    "\n",
    "criterion = nn.CrossEntropyLoss()\n",
    "optimizer = optim.Adam(model.parameters(), lr=0.001)\n",
    "\n",
    "# Training loop\n",
    "epochs = 10  \n",
    "\n",
    "for epoch in range(epochs):\n",
    "    running_loss = 0.0\n",
    "    model.train()\n",
    "\n",
    "    for images, labels in trainloader:\n",
    "        optimizer.zero_grad()\n",
    "        outputs = model(images)\n",
    "        loss = criterion(outputs, labels)\n",
    "        loss.backward()\n",
    "        optimizer.step()\n",
    "\n",
    "        running_loss += loss.item()\n",
    "\n",
    "    print(f\"Epoch [{epoch+1}/{epochs}] Loss: {running_loss/len(trainloader):.4f}\")\n"
   ]
  },
  {
   "cell_type": "code",
   "execution_count": 68,
   "id": "54a7e088",
   "metadata": {},
   "outputs": [
    {
     "name": "stdout",
     "output_type": "stream",
     "text": [
      "Accuracy on MNIST test images: 97.58%\n"
     ]
    }
   ],
   "source": [
    "# Evaluation\n",
    "model.eval()\n",
    "correct = 0\n",
    "total = 0\n",
    "\n",
    "with torch.no_grad():\n",
    "    for images, labels in testloader:\n",
    "        outputs = model(images)\n",
    "        _, predicted = torch.max(outputs.data, 1)\n",
    "        total += labels.size(0)\n",
    "        correct += (predicted == labels).sum().item()\n",
    "\n",
    "print(f'Accuracy on MNIST test images: {100 * correct / total:.2f}%')\n"
   ]
  },
  {
   "cell_type": "code",
   "execution_count": null,
   "id": "527f9658",
   "metadata": {},
   "outputs": [
    {
     "name": "stdout",
     "output_type": "stream",
     "text": [
      "Predictions: [0 0 0 0 3 5 5 0 0 2 0 0 5 5 5 5 7 4 7 9 5 7 7 7 5 7 1 7 5 5 9 0 0 1 6 1 1\n",
      " 1 5 5 9 1 2 2 2 5 5 7 5 1 7 2 4 5 7 7 7 5 5 1 5 5 5 5 0 1 8 2 2 2 2 5 2 5\n",
      " 2 7 2 0 5 5 5 5 4 2 5 2 5 7 5 5 5 5 5 5 5 2 5 2 2 3 5 3 3 3 5 9 9 3 9 3 2\n",
      " 5 5 5 7 2 2 5 9 5 7 7 7 5 5 5 5 5 2 5 2 3 7 4 4 4 4 5 4 8 4 4 4 4 5 7 5 7\n",
      " 5 7 5 9 5 7 7 7 5 5 7 4 5 5 5 4 4 5 5 6 5 5 5 5 5 5 5 5 5 5 5 7 5 9 2 0 5\n",
      " 5 7 7 7 5 5 7 5 5 5 9 5 5 5 6 6 6 8 5 2 7 5 5 6 8 5 5 5 5 5 5 7 5 7 7 5 7\n",
      " 6 5 5 6 6 2 2 5 2 7 2 7 2 1 7 5 5 7 7 7 7 7 7 7 7 9 2 2 9 5 7 7 7 7 5 7 7\n",
      " 7 5 9 7 7 2 8 8 8 8 5 5 5 3 8 8 8 9 5 9 7 9 2 5 3 5 7 5 5 2 5 5 2 2 9 5 8\n",
      " 8 9 9 9 2 2 5 1 8 9 9 9 5 7 5 9 7 3 9 7 1 7 7 7 7 5 5 1 7 5 9 9 9 7]\n",
      "Ground Truth: [0 0 0 0 0 0 0 0 0 0 0 0 0 0 0 0 0 0 0 0 0 0 0 0 0 0 0 0 0 0 0 0 0 1 1 1 1\n",
      " 1 1 1 1 1 1 1 1 1 1 1 1 1 1 1 1 1 1 1 1 1 1 1 1 1 1 1 1 1 2 2 2 2 2 2 2 2\n",
      " 2 2 2 2 2 2 2 2 2 2 2 2 2 2 2 2 2 2 2 2 2 2 2 2 2 3 3 3 3 3 3 3 3 3 3 3 3\n",
      " 3 3 3 3 3 3 3 3 3 3 3 3 3 3 3 3 3 3 3 3 3 4 4 4 4 4 4 4 4 4 4 4 4 4 4 4 4\n",
      " 4 4 4 4 4 4 4 4 4 4 4 4 4 4 4 4 4 5 5 5 5 5 5 5 5 5 5 5 5 5 5 5 5 5 5 5 5\n",
      " 5 5 5 5 5 5 5 5 5 5 5 5 5 6 6 6 6 6 6 6 6 6 6 6 6 6 6 6 6 6 6 6 6 6 6 6 6\n",
      " 6 6 6 6 6 6 6 6 6 7 7 7 7 7 7 7 7 7 7 7 7 7 7 7 7 7 7 7 7 7 7 7 7 7 7 7 7\n",
      " 7 7 7 7 7 8 8 8 8 8 8 8 8 8 8 8 8 8 8 8 8 8 8 8 8 8 8 8 8 8 8 8 8 8 8 8 8\n",
      " 8 9 9 9 9 9 9 9 9 9 9 9 9 9 9 9 9 9 9 9 9 9 9 9 9 9 9 9 9 9 9 9 9 9]\n",
      "Accuracy on Group Digits: 36.06%\n"
     ]
    }
   ],
   "source": [
    "\n",
    "device = torch.device(\"cuda\" if torch.cuda.is_available() else \"cpu\")\n",
    "\n",
    "# Move tensors to the device\n",
    "images_tensor = images_tensor.to(device)\n",
    "labels_tensor = labels_tensor.to(device)\n",
    "\n",
    "images_tensor = images_tensor.to(device)\n",
    "labels_tensor = labels_tensor.to(device)\n",
    "\n",
    "model.eval()\n",
    "\n",
    "# Disable gradient calculation for efficiency\n",
    "with torch.no_grad():\n",
    "    outputs = model(images_tensor)              \n",
    "    _, predicted = torch.max(outputs, 1)        \n",
    "    correct = (predicted == labels_tensor).sum().item()\n",
    "    total = labels_tensor.size(0)\n",
    "    accuracy = 100 * correct / total\n",
    "\n",
    "print(\"Predictions:\", predicted.cpu().numpy())\n",
    "print(\"Ground Truth:\", labels_tensor.cpu().numpy())\n",
    "print(f\"Accuracy on Group Digits: {accuracy:.2f}%\")\n"
   ]
  },
  {
   "cell_type": "code",
   "execution_count": null,
   "id": "8f6567a5",
   "metadata": {},
   "outputs": [
    {
     "data": {
      "image/png": "[encoded data removed]",
      "text/plain": [
       "<Figure size 1500x300 with 10 Axes>"
      ]
     },
     "metadata": {},
     "output_type": "display_data"
    }
   ],
   "source": [
    "import matplotlib.pyplot as plt\n",
    "\n",
    "model.eval()\n",
    "with torch.no_grad():\n",
    "    outputs = model(images_tensor)\n",
    "    _, predicted = torch.max(outputs, 1)\n",
    "\n",
    "images_cpu = images_tensor.cpu()\n",
    "predicted_cpu = predicted.cpu()\n",
    "labels_cpu = labels_tensor.cpu()\n",
    "\n",
    "N = min(10, len(images_cpu))  \n",
    "plt.figure(figsize=(15, 3))\n",
    "\n",
    "for i in range(N):\n",
    "    plt.subplot(1, N, i + 1)\n",
    "    plt.imshow(images_cpu[i].squeeze(), cmap='gray')\n",
    "    plt.title(f\"P: {predicted_cpu[i].item()}\\nT: {labels_cpu[i].item()}\")\n",
    "    plt.axis('off')\n",
    "\n",
    "plt.tight_layout()\n",
    "plt.show()\n"
   ]
  },
  {
   "cell_type": "code",
   "execution_count": 71,
   "id": "edf2f0e9",
   "metadata": {},
   "outputs": [
    {
     "data": {
      "image/png": "[encoded data removed]",
      "text/plain": [
       "<Figure size 1500x300 with 10 Axes>"
      ]
     },
     "metadata": {},
     "output_type": "display_data"
    }
   ],
   "source": [
    "# Find indices of misclassified images\n",
    "misclassified_indices = (predicted_cpu != labels_cpu).nonzero().flatten()\n",
    "\n",
    "# Show up to 10 misclassified images\n",
    "N = min(10, len(misclassified_indices))\n",
    "plt.figure(figsize=(15, 3))\n",
    "\n",
    "for i in range(N):\n",
    "    idx = misclassified_indices[i]\n",
    "    plt.subplot(1, N, i + 1)\n",
    "    plt.imshow(images_cpu[idx].squeeze(), cmap='gray')\n",
    "    plt.title(f\"P: {predicted_cpu[idx].item()}\\nT: {labels_cpu[idx].item()}\")\n",
    "    plt.axis('off')\n",
    "\n",
    "plt.tight_layout()\n",
    "plt.show()\n"
   ]
  },
  {
   "cell_type": "markdown",
   "id": "7a9b0590",
   "metadata": {},
   "source": [
    "## Hyperparameter Tuning"
   ]
  },
  {
   "cell_type": "code",
   "execution_count": 75,
   "id": "fbfa04d8",
   "metadata": {},
   "outputs": [],
   "source": [
    "from torchvision import datasets\n",
    "from torch.utils.data import DataLoader\n",
    "\n",
    "transform = transforms.Compose([\n",
    "    transforms.ToTensor(),\n",
    "    transforms.Normalize((0.5,), (0.5,))\n",
    "])\n",
    "\n",
    "train_set = datasets.MNIST(root='./data', train=True, download=True, transform=transform)\n",
    "test_set = datasets.MNIST(root='./data', train=False, download=True, transform=transform)\n",
    "\n",
    "train_loader = DataLoader(train_set, batch_size=64, shuffle=True)\n",
    "test_loader = DataLoader(test_set, batch_size=64, shuffle=False)\n"
   ]
  },
  {
   "cell_type": "code",
   "execution_count": 76,
   "id": "cc64055f",
   "metadata": {},
   "outputs": [],
   "source": [
    "def train_and_evaluate(hidden_sizes, lr, optimizer_name, num_epochs=10):\n",
    "    # Define model architecture dynamically\n",
    "    layers = [nn.Flatten()]\n",
    "    input_size = 28 * 28\n",
    "    for h in hidden_sizes:\n",
    "        layers.append(nn.Linear(input_size, h))\n",
    "        layers.append(nn.ReLU())\n",
    "        input_size = h\n",
    "    layers.append(nn.Linear(input_size, 10))\n",
    "    model = nn.Sequential(*layers).to(device)\n",
    "\n",
    "    # Loss and optimizer\n",
    "    criterion = nn.CrossEntropyLoss()\n",
    "    if optimizer_name == 'SGD':\n",
    "        optimizer = optim.SGD(model.parameters(), lr=lr, momentum=0.9)\n",
    "    elif optimizer_name == 'Adam':\n",
    "        optimizer = optim.Adam(model.parameters(), lr=lr)\n",
    "    else:\n",
    "        raise ValueError(\"Unsupported optimizer\")\n",
    "\n",
    "    # Training loop\n",
    "    for epoch in range(num_epochs):\n",
    "        model.train()\n",
    "        for inputs, labels in train_loader:\n",
    "            inputs, labels = inputs.to(device), labels.to(device)\n",
    "            optimizer.zero_grad()\n",
    "            outputs = model(inputs)\n",
    "            loss = criterion(outputs, labels)\n",
    "            loss.backward()\n",
    "            optimizer.step()\n",
    "\n",
    "    # Evaluate on MNIST test\n",
    "    model.eval()\n",
    "    correct_mnist, total_mnist = 0, 0\n",
    "    with torch.no_grad():\n",
    "        for inputs, labels in test_loader:\n",
    "            inputs, labels = inputs.to(device), labels.to(device)\n",
    "            outputs = model(inputs)\n",
    "            _, predicted = torch.max(outputs, 1)\n",
    "            total_mnist += labels.size(0)\n",
    "            correct_mnist += (predicted == labels).sum().item()\n",
    "    mnist_acc = 100 * correct_mnist / total_mnist\n",
    "\n",
    "    # Evaluate on team digits\n",
    "    with torch.no_grad():\n",
    "        outputs = model(images_tensor)\n",
    "        _, predicted = torch.max(outputs, 1)\n",
    "        correct_group = (predicted == labels_tensor).sum().item()\n",
    "        group_acc = 100 * correct_group / labels_tensor.size(0)\n",
    "\n",
    "    return mnist_acc, group_acc\n"
   ]
  },
  {
   "cell_type": "code",
   "execution_count": 77,
   "id": "74e06737",
   "metadata": {},
   "outputs": [
    {
     "name": "stdout",
     "output_type": "stream",
     "text": [
      "Running config 1: {'hidden_sizes': [256, 128], 'lr': 0.01, 'opt': 'SGD'}\n",
      "MNIST Acc: 97.53% | Group Acc: 34.55%\n",
      "\n",
      "Running config 2: {'hidden_sizes': [512, 256], 'lr': 0.001, 'opt': 'Adam'}\n",
      "MNIST Acc: 97.82% | Group Acc: 38.48%\n",
      "\n",
      "Running config 3: {'hidden_sizes': [128], 'lr': 0.01, 'opt': 'SGD'}\n",
      "MNIST Acc: 97.12% | Group Acc: 37.27%\n",
      "\n",
      "Running config 4: {'hidden_sizes': [256], 'lr': 0.001, 'opt': 'Adam'}\n",
      "MNIST Acc: 97.50% | Group Acc: 31.82%\n",
      "\n"
     ]
    }
   ],
   "source": [
    "configs = [\n",
    "    {'hidden_sizes': [256, 128], 'lr': 0.01, 'opt': 'SGD'},\n",
    "    {'hidden_sizes': [512, 256], 'lr': 0.001, 'opt': 'Adam'},\n",
    "    {'hidden_sizes': [128],      'lr': 0.01, 'opt': 'SGD'},\n",
    "    {'hidden_sizes': [256],      'lr': 0.001, 'opt': 'Adam'},\n",
    "]\n",
    "\n",
    "results = []\n",
    "\n",
    "for i, config in enumerate(configs):\n",
    "    print(f\"Running config {i+1}: {config}\")\n",
    "    mnist_acc, group_acc = train_and_evaluate(config['hidden_sizes'], config['lr'], config['opt'])\n",
    "    results.append((config, mnist_acc, group_acc))\n",
    "    print(f\"MNIST Acc: {mnist_acc:.2f}% | Group Acc: {group_acc:.2f}%\\n\")\n"
   ]
  },
  {
   "cell_type": "code",
   "execution_count": 78,
   "id": "5c65e5a0",
   "metadata": {},
   "outputs": [
    {
     "name": "stdout",
     "output_type": "stream",
     "text": [
      "Summary of Hyperparameter Tuning:\n",
      "\n",
      "Config 1: {'hidden_sizes': [256, 128], 'lr': 0.01, 'opt': 'SGD'}\n",
      "  -> MNIST Accuracy: 97.53%\n",
      "  -> Group Accuracy: 34.55%\n",
      "\n",
      "Config 2: {'hidden_sizes': [512, 256], 'lr': 0.001, 'opt': 'Adam'}\n",
      "  -> MNIST Accuracy: 97.82%\n",
      "  -> Group Accuracy: 38.48%\n",
      "\n",
      "Config 3: {'hidden_sizes': [128], 'lr': 0.01, 'opt': 'SGD'}\n",
      "  -> MNIST Accuracy: 97.12%\n",
      "  -> Group Accuracy: 37.27%\n",
      "\n",
      "Config 4: {'hidden_sizes': [256], 'lr': 0.001, 'opt': 'Adam'}\n",
      "  -> MNIST Accuracy: 97.50%\n",
      "  -> Group Accuracy: 31.82%\n",
      "\n"
     ]
    }
   ],
   "source": [
    "print(\"Summary of Hyperparameter Tuning:\\n\")\n",
    "for i, (cfg, mnist_acc, group_acc) in enumerate(results):\n",
    "    print(f\"Config {i+1}: {cfg}\")\n",
    "    print(f\"  -> MNIST Accuracy: {mnist_acc:.2f}%\")\n",
    "    print(f\"  -> Group Accuracy: {group_acc:.2f}%\\n\")\n"
   ]
  }
 ],
 "metadata": {
  "kernelspec": {
   "display_name": "Python 3 (ipykernel)",
   "language": "python",
   "name": "python3"
  },
  "language_info": {
   "codemirror_mode": {
    "name": "ipython",
    "version": 3
   },
   "file_extension": ".py",
   "mimetype": "text/x-python",
   "name": "python",
   "nbconvert_exporter": "python",
   "pygments_lexer": "ipython3",
   "version": "3.9.19"
  }
 },
 "nbformat": 4,
 "nbformat_minor": 5
}
